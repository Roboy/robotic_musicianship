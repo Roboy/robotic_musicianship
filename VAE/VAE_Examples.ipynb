{
 "cells": [
  {
   "cell_type": "markdown",
   "metadata": {},
   "source": [
    "# Variational Autoencoder (VAE) \n",
    "Use this script for:\n",
    "1. Reconstruction of MIDI sequences\n",
    "2. Interpolation in latent space\n",
    "3. Random sampling with decoder only"
   ]
  },
  {
   "cell_type": "code",
   "execution_count": null,
   "metadata": {},
   "outputs": [],
   "source": [
    "import torch\n",
    "from VAE.VAE_Train import VAE\n",
    "from loadModel import loadStateDict\n",
    "from VAE.vae_utils.vae_utils import reconstruct, interpolate, sample\n",
    "\n",
    "vae_path = '../utils/pretrained_models/vae_model.pth'\n",
    "vae_model = VAE()\n",
    "vae_model = loadStateDict(vae_model, vae_path)\n",
    "device = torch.device(\"cuda\" if torch.cuda.is_available() else \"cpu\")\n",
    "vae_model = vae_model.to(device)"
   ]
  },
  {
   "cell_type": "code",
   "execution_count": null,
   "metadata": {},
   "outputs": [],
   "source": [
    "reconstruct('../utils/midi_files/interpolateA2.mid',\n",
    "           vae_model, start_bar=0, end_bar=1, temperature=0.5, smooth_threshold=0)"
   ]
  },
  {
   "cell_type": "markdown",
   "metadata": {},
   "source": [
    "# Interpolate between two sequences in latent space\n",
    "\n",
    "Take 2 embedded sequences and slowly morph it to the other one based on this formula: $c_\\alpha=(1-\\alpha)*z_1 + \\alpha*z_2$ , where $z_1$ corresponds to the embedding of sample 1 and $z_2$ to sample 2.\n",
    "(Source: https://arxiv.org/pdf/1803.05428.pdf)"
   ]
  },
  {
   "cell_type": "code",
   "execution_count": null,
   "metadata": {
    "scrolled": false
   },
   "outputs": [],
   "source": [
    "interpolate(\n",
    "    sample1_path='../utils/midi_files/interpolateA2.mid',\n",
    "    sample2_path='../utils/midi_files/interpolateB2.mid',\n",
    "    model=vae_model, sample1_bar = 0, sample2_bar = 0, temperature=.5, smooth_threshold=0, play_loud=False)     "
   ]
  },
  {
   "cell_type": "markdown",
   "metadata": {},
   "source": [
    "# Random Sampler\n",
    "Since the KL Divergence $K_{DL}$ forces the VAE model to produce samples from the dataset based on a unit Gaussian distribution, this function randomly samples a unit Gaussian and plays it."
   ]
  },
  {
   "cell_type": "code",
   "execution_count": null,
   "metadata": {
    "scrolled": false
   },
   "outputs": [],
   "source": [
    "while True:\n",
    "    sample(vae_model, temperature=0.5, smooth_threshold=0)"
   ]
  },
  {
   "cell_type": "code",
   "execution_count": null,
   "metadata": {},
   "outputs": [],
   "source": []
  }
 ],
 "metadata": {
  "kernelspec": {
   "display_name": "Python 3",
   "language": "python",
   "name": "python3"
  },
  "language_info": {
   "codemirror_mode": {
    "name": "ipython",
    "version": 3
   },
   "file_extension": ".py",
   "mimetype": "text/x-python",
   "name": "python",
   "nbconvert_exporter": "python",
   "pygments_lexer": "ipython3",
   "version": "3.6.5"
  }
 },
 "nbformat": 4,
 "nbformat_minor": 2
}
