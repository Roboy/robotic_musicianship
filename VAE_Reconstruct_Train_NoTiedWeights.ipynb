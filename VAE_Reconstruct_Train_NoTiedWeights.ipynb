{
 "cells": [
  {
   "cell_type": "code",
   "execution_count": 1,
   "metadata": {},
   "outputs": [],
   "source": [
    "import numpy as np\n",
    "import glob\n",
    "import pypianoroll as ppr\n",
    "import time\n",
    "import music21\n",
    "import os\n",
    "import torch\n",
    "import torch.utils.data\n",
    "from torch import nn, optim\n",
    "from torch.nn import functional as F\n",
    "from utils.utilsPreprocessing import *\n",
    "#np.set_printoptions(threshold=np.inf)\n",
    "#torch.set_printoptions(threshold=50000)"
   ]
  },
  {
   "cell_type": "code",
   "execution_count": 2,
   "metadata": {},
   "outputs": [],
   "source": [
    "##################################\n",
    "#HYPERPARAMS\n",
    "##################################\n",
    "epochs = 2\n",
    "learning_rate = 1e-4\n",
    "batch_size= 100\n",
    "log_interval = 1  #Log/show loss per batch\n",
    "embedding_size=200"
   ]
  },
  {
   "cell_type": "markdown",
   "metadata": {},
   "source": [
    "# Load MIDI files from npz"
   ]
  },
  {
   "cell_type": "code",
   "execution_count": 3,
   "metadata": {},
   "outputs": [
    {
     "name": "stdout",
     "output_type": "stream",
     "text": [
      "Training set: (39782, 1, 96, 60)\n",
      "Test set: (9691, 1, 96, 60)\n"
     ]
    }
   ],
   "source": [
    "data = np.load('../YamahaPianoCompetition2002NoTranspose.npz')\n",
    "\n",
    "midiDatasetTrain = data['train']\n",
    "midiDatasetTest = data['test']\n",
    "\n",
    "data.close()\n",
    "\n",
    "\"\"\"\n",
    "print(\"Training set: ({}, {}, {}, {})\".format(midiDatasetTrain.size()[0],\n",
    "                                                midiDatasetTrain.size()[1],\n",
    "                                                midiDatasetTrain.size()[2],\n",
    "                                                midiDatasetTrain.size()[3]))\n",
    "print(\"Test set: ({}, {}, {}, {})\".format(midiDatasetTest.size()[0],\n",
    "                                                midiDatasetTest.size()[1],\n",
    "                                                midiDatasetTest.size()[2],\n",
    "                                                midiDatasetTest.size()[3]))\n",
    "\"\"\"\n",
    "\n",
    "print(\"Training set: {}\".format(midiDatasetTrain.shape))\n",
    "print(\"Test set: {}\".format(midiDatasetTest.shape))"
   ]
  },
  {
   "cell_type": "code",
   "execution_count": 4,
   "metadata": {},
   "outputs": [],
   "source": [
    "#print(getSlicedPianorollMatrix('WikifoniaServer/train80/Ahmad-Jamal---Poinciana.mid').shape)"
   ]
  },
  {
   "cell_type": "code",
   "execution_count": 5,
   "metadata": {
    "scrolled": false
   },
   "outputs": [],
   "source": [
    "fullPitch = 128\n",
    "_, _, length, reducedPitch = midiDatasetTrain.shape"
   ]
  },
  {
   "cell_type": "markdown",
   "metadata": {},
   "source": [
    "# VAE model"
   ]
  },
  {
   "cell_type": "code",
   "execution_count": 6,
   "metadata": {},
   "outputs": [],
   "source": [
    "device = torch.device(\"cuda\" if torch.cuda.is_available() else \"cpu\")"
   ]
  },
  {
   "cell_type": "code",
   "execution_count": 7,
   "metadata": {},
   "outputs": [],
   "source": [
    "midiDatasetTrain = torch.from_numpy(midiDatasetTrain)#.float()\n",
    "trainLoader = torch.utils.data.DataLoader(midiDatasetTrain, batch_size=batch_size, shuffle=True, drop_last=True)\n",
    "\n",
    "midiDatasetTest = torch.from_numpy(midiDatasetTest)#.float()\n",
    "testLoader = torch.utils.data.DataLoader(midiDatasetTest, batch_size=batch_size, shuffle=True, drop_last=True)"
   ]
  },
  {
   "cell_type": "code",
   "execution_count": 8,
   "metadata": {
    "scrolled": false
   },
   "outputs": [],
   "source": [
    "class VAE(nn.Module):\n",
    "    def __init__(self, embedding_size=100):\n",
    "        super(VAE, self).__init__()\n",
    "        \n",
    "        self.embedding_size = embedding_size\n",
    "        \n",
    "        ###ENCODER###\n",
    "        self.encode1 = nn.Sequential(\n",
    "            nn.Conv2d(1,100,(16,5),stride=(16,5),padding=0),\n",
    "            nn.BatchNorm2d(100),\n",
    "            nn.ELU(),\n",
    "            nn.Conv2d(100,200,(2,1),stride=(2,1),padding=0),\n",
    "            nn.BatchNorm2d(200),\n",
    "            nn.ELU(),\n",
    "            nn.Conv2d(200,400,(2,2),stride=(1,2),padding=0),\n",
    "            nn.BatchNorm2d(400),\n",
    "            nn.ELU(),\n",
    "            nn.Conv2d(400,800,(2,2),stride=(2,2),padding=0),\n",
    "            nn.BatchNorm2d(800),\n",
    "            nn.ELU()\n",
    "        )\n",
    "            \n",
    "        self.encode2 = nn.Sequential(\n",
    "            nn.Linear(2400,800),\n",
    "            nn.BatchNorm1d(800),\n",
    "            nn.ELU(),\n",
    "            nn.Linear(800,400),\n",
    "            nn.BatchNorm1d(400),\n",
    "            nn.ELU()\n",
    "            #nn.Linear(400,100),\n",
    "            #nn.BatchNorm1d(100),\n",
    "            #nn.ELU()\n",
    "        )\n",
    "        self.encode31 = nn.Sequential(\n",
    "            nn.Linear(400,self.embedding_size),\n",
    "            nn.BatchNorm1d(self.embedding_size),\n",
    "            nn.ELU()\n",
    "        )\n",
    "        self.encode32 = nn.Sequential(\n",
    "            nn.Linear(400,self.embedding_size),\n",
    "            nn.BatchNorm1d(self.embedding_size),\n",
    "            nn.ELU()\n",
    "        )\n",
    "\n",
    "        ###DECODER###\n",
    "        self.decode1 = nn.Sequential(\n",
    "            nn.Linear(self.embedding_size,400),\n",
    "            nn.BatchNorm1d(400),\n",
    "            nn.ELU(),\n",
    "            nn.Linear(400,800),\n",
    "            nn.BatchNorm1d(800),\n",
    "            nn.ELU(),\n",
    "            nn.Linear(800,2400),\n",
    "            nn.BatchNorm1d(2400),\n",
    "            nn.ELU()\n",
    "        )\n",
    "        self.decode2 = nn.Sequential(\n",
    "            nn.ConvTranspose2d(800,400,(2,2),stride=(2,2),padding=0),\n",
    "            nn.BatchNorm2d(400),\n",
    "            nn.ELU(),\n",
    "            nn.ConvTranspose2d(400,200,(2,2),stride=(1,2),padding=0),\n",
    "            nn.BatchNorm2d(200),\n",
    "            nn.ELU(),\n",
    "            nn.ConvTranspose2d(200,100,(2,1),stride=(2,1),padding=0),\n",
    "            nn.BatchNorm2d(100),\n",
    "            nn.ELU(),\n",
    "            nn.ConvTranspose2d(100,1,(16,5),stride=(16,5),padding=0),\n",
    "            nn.BatchNorm2d(1),\n",
    "            nn.ELU()\n",
    "        )\n",
    "    \n",
    "    def encoder(self, hEnc):\n",
    "        #print(\"ENOCDER\")\n",
    "        hEnc = self.encode1(hEnc)\n",
    "        hEnc = torch.squeeze(hEnc,3).view(-1,800*3)\n",
    "        hEnc = self.encode2(hEnc)\n",
    "        hEnc1 = self.encode31(hEnc)\n",
    "        hEnc2 = self.encode32(hEnc)\n",
    "        return hEnc1, hEnc2\n",
    "\n",
    "    def decoder(self, z):\n",
    "        #print(\"DECODER\")\n",
    "        hDec = self.decode1(z)\n",
    "        hDec = hDec.view(hDec.size()[0],800,-1).unsqueeze(2)\n",
    "        hDec = self.decode2(hDec)\n",
    "        return hDec\n",
    "\n",
    "    def reparameterize(self, mu, logvar):\n",
    "        if self.training:\n",
    "            std = torch.exp(0.2*logvar)\n",
    "            eps = torch.randn_like(std)\n",
    "            return eps.mul(std).add_(mu)\n",
    "        else:\n",
    "            #print(\"no change\")\n",
    "            return mu\n",
    "        \n",
    "    def forward(self, x):\n",
    "        mu, logvar = self.encoder(x)\n",
    "        z = self.reparameterize(mu, logvar)\n",
    "        return self.decoder(z), mu, logvar\n",
    "    \n",
    "model = VAE(embedding_size=embedding_size).to(device)\n",
    "optimizer = optim.Adam(model.parameters(), lr=learning_rate)\n",
    "\n",
    "\n",
    "def loss_function(recon_x, x, mu, logvar, dataset):\n",
    "    \n",
    "    cos = nn.CosineSimilarity(dim=1, eps=1e-8) \n",
    "    #beta for disentanglement\n",
    "    beta = 1e0 \n",
    "    \n",
    "    ###NESTED COSINE SIMILARITY SOFTMAX LOSS \n",
    "    ###WITH 4 RANDOM RECONSTRUCTED VECTORS\n",
    "    ###WHICH INCLUDES NEGATIVE EXAMPLES OF RECONSTRUCTIONS\n",
    "    if(False):#model.training): \n",
    "        sftmax = nn.Softmax(dim=0)\n",
    "        lenDataset = dataset.size()[0]\n",
    "        #print(lenDataset)\n",
    "        softmax = 0\n",
    "        for orgInput, recon in zip(x, recon_x):\n",
    "                     \n",
    "            #HAVE TO DO IT LIKE THIS BECAUSE BATCHSIZE 1 DOESN'T WORK IN PYTORCH\n",
    "            rand = np.random.randint(0,lenDataset-1)\n",
    "            randomRecons = dataset[rand:rand+1,:,:,:] \n",
    "            for i in range(3):\n",
    "                rand = np.random.randint(0,lenDataset-1)\n",
    "                randomTemp = dataset[rand:rand+1,:,:,:]\n",
    "                randomRecons = torch.cat((randomRecons,randomTemp),dim=0)\n",
    "            with torch.no_grad():\n",
    "                randomRecons, _ = model(randomRecons.float().to(device))\n",
    "            #COMPUTE COSINE SIMILARITY FOR ORIGINAL INPUT\n",
    "            #AND ITS RECONSTRUCTION\n",
    "            cosSimOrg = cos(orgInput.view(1,-1),recon.view(1,-1))\n",
    "            \n",
    "            #INCLUDE NEGATIVE EXAMPLES WITH SOFTMAX\n",
    "            cosSim = cos(orgInput.view(1,-1),randomRecons[0].view(1,-1))\n",
    "            for randomRecon in randomRecons[1:]:\n",
    "                cosTemp = cos(orgInput.view(1,-1),randomRecon[0].view(1,-1))\n",
    "                cosSim = torch.cat((cosSim, cosTemp),dim=0)\n",
    "            cosSoftmax = torch.cat((cosSimOrg,cosSim),dim=0)            \n",
    "            softmax += sftmax(cosSoftmax)[0]\n",
    "            \n",
    "        return -softmax\n",
    "    #OLDLOSS JUST COSINE SIMILARITY ON RECONSTRUCTION (GOOD FOR TESTING?)\n",
    "    else:\n",
    "        \"\"\"\n",
    "        BCE = F.binary_cross_entropy(recon_x, x.view(-1, 784), size_average=False)\n",
    "\n",
    "        # see Appendix B from VAE paper:\n",
    "        # Kingma and Welling. Auto-Encoding Variational Bayes. ICLR, 2014\n",
    "        # https://arxiv.org/abs/1312.6114\n",
    "        # 0.5 * sum(1 + log(sigma^2) - mu^2 - sigma^2)\n",
    "        KLD = -0.5 * torch.sum(1 + logvar - mu.pow(2) - logvar.exp())\n",
    "\n",
    "        return BCE + KLD\n",
    "        \"\"\"\n",
    "        #BCE2 = F.binary_cross_entropy(recon_x.view(-1,96*60),\n",
    "        #                             x.view(-1, 96*60),\n",
    "        #                             size_average=False)\n",
    "        \n",
    "        BCELoss = nn.BCEWithLogitsLoss(reduction='sum')\n",
    "        BCE = BCELoss(recon_x.view(-1,96*60),x.view(-1,96*60))\n",
    "        \n",
    "        cosSim = torch.sum(cos(x.view(100,-1),recon_x.view(100,-1)))\n",
    "        cosSim = x.size()[0]-cosSim\n",
    "        \n",
    "        KLD = -0.5 * torch.sum(1 + logvar - mu.pow(2) - logvar.exp())\n",
    "        KLD /= mu.size()[0]*mu.size()[1]\n",
    "        print(BCE);print(cosSim);print(KLD)\n",
    "        return cosSim# + (beta * KLD)\n",
    "        \n",
    "\n",
    "def train(epoch):\n",
    "    model.train()\n",
    "    trainLoss = 0\n",
    "\n",
    "    for batch_idx, data in enumerate(trainLoader):\n",
    "        ###DENOISING AUTOENCODER\n",
    "        #data = data.float().to(device)\n",
    "        #noise = torch.bernoulli((torch.rand_like(data))).to(device)\n",
    "        #print(noise[0])\n",
    "        #noisyData = data+noise\n",
    "        #optimizer.zero_grad()\n",
    "        #reconBatch, mu = model(noisyData)\n",
    "        \n",
    "        ###NORMAL AUTOENCODER\n",
    "        data = data.float().to(device)\n",
    "        reconBatch, mu, logvar = model(data)\n",
    "\n",
    "        loss = loss_function(reconBatch, data, mu, logvar, trainLoader.dataset)\n",
    "        loss.backward()\n",
    "        trainLoss += loss.item()\n",
    "        optimizer.step()\n",
    "        if(batch_idx % log_interval == 0):\n",
    "            print('Train Epoch: {} [{}/{} ({:.0f}%)]\\tLoss: {:.6f}'.format(\n",
    "                epoch, batch_idx * len(data), len(trainLoader.dataset),\n",
    "                100. * batch_idx / len(trainLoader),\n",
    "                loss.item() / len(data)))\n",
    "        #if (batch_idx == 10):\n",
    "        #    break\n",
    "\n",
    "    print('====> Epoch: {} Average Loss: {:.4f}'.format(\n",
    "          epoch, trainLoss / len(trainLoader.dataset)))\n",
    "\n",
    "def test(epoch):\n",
    "    model.eval()\n",
    "    testLoss = 0\n",
    "    with torch.no_grad():\n",
    "        for i, data in enumerate(testLoader):\n",
    "            ###DENOISING AUTOENCODER\n",
    "            #data = data.float().to(device)\n",
    "            #noise = torch.bernoulli((torch.rand_like(data))).to(device)\n",
    "            #noisyData = data+noise\n",
    "            #reconBatch, mu = model(noisyData)\n",
    "            \n",
    "            ###NORMAL AUTOENCODER\n",
    "            data = data.float().to(device)\n",
    "            reconBatch, mu, logvar = model(data)\n",
    "            \n",
    "            #TEMP\n",
    "            randomRecons = torch.zeros(1,1,60,96).to(device)\n",
    "            #TEMP END\n",
    "            testLoss += loss_function(reconBatch, data, mu, logvar, randomRecons).item()\n",
    "            #if(i==10):\n",
    "            #    break\n",
    "    testLoss /= len(testLoader.dataset)\n",
    "\n",
    "    print('====> Test set loss: {:.4f}'.format(testLoss))"
   ]
  },
  {
   "cell_type": "markdown",
   "metadata": {},
   "source": [
    "# Load Model"
   ]
  },
  {
   "cell_type": "code",
   "execution_count": 9,
   "metadata": {},
   "outputs": [
    {
     "name": "stdout",
     "output_type": "stream",
     "text": [
      "\n",
      "--------GPU model restored--------\n",
      "\n"
     ]
    }
   ],
   "source": [
    "from loadModel import loadModel\n",
    "pathToModel = '../models/YamahaPC2002_VAE_Reconstruct_NoTW_20Epochs.model'\n",
    "\n",
    "model = loadModel(model,pathToModel, dataParallelModel=False)\n"
   ]
  },
  {
   "cell_type": "markdown",
   "metadata": {
    "scrolled": false
   },
   "source": [
    "# Train"
   ]
  },
  {
   "cell_type": "code",
   "execution_count": null,
   "metadata": {
    "scrolled": false
   },
   "outputs": [],
   "source": [
    "for epoch in range(1, epochs + 1):\n",
    "    train(epoch)\n",
    "    test(epoch)"
   ]
  },
  {
   "cell_type": "code",
   "execution_count": null,
   "metadata": {},
   "outputs": [],
   "source": [
    "#torch.save(model,'/media/EXTHD/niciData/models/YamahaPC2002_DenoisingCVAE_Reconstruct_NoTW_5Epochs.model')"
   ]
  },
  {
   "cell_type": "markdown",
   "metadata": {},
   "source": [
    "# Generate"
   ]
  },
  {
   "cell_type": "code",
   "execution_count": null,
   "metadata": {},
   "outputs": [],
   "source": [
    "np.set_printoptions(precision=4, suppress=True, threshold=np.inf)\n"
   ]
  },
  {
   "cell_type": "code",
   "execution_count": 12,
   "metadata": {
    "scrolled": false
   },
   "outputs": [
    {
     "name": "stdout",
     "output_type": "stream",
     "text": [
      "INPUT\n"
     ]
    },
    {
     "data": {
      "image/png": "[encoded data removed]",
      "text/plain": [
       "<IPython.core.display.Image object>"
      ]
     },
     "metadata": {
      "image/png": {
       "height": 88,
       "width": 748
      }
     },
     "output_type": "display_data"
    },
    {
     "data": {
      "text/html": [
       "\n",
       "                <div id='midiPlayerDiv5483'></div>\n",
       "                <link rel=\"stylesheet\" href=\"//cuthbertLab.github.io/music21j/css/m21.css\"\n",
       "                    type=\"text/css\" />\n",
       "                <script>\n",
       "                require.config({\n",
       "                    paths: {'music21': '//cuthbertLab.github.io/music21j/src/music21'}\n",
       "                });\n",
       "                require(['music21'], function() {\n",
       "                               mp = new music21.miditools.MidiPlayer();\n",
       "                               mp.addPlayer('#midiPlayerDiv5483');\n",
       "                               mp.base64Load('data:audio/midi;base64,TVRoZAAAAAYAAQABBABNVHJrAAABCQD/AwVQaWFubwDAAADgAEAAwAAA/1EDB6EgAP9YBAQCGAiIAJA8f4gAgDwAAJBAf4gAgEAAAJBDf4gAgEMAAJBAf4gAgEAAAJBDf4gAgEMAAJBBf4gAgEEAAJBAf4gAgEAAAJA+f4gAgD4AAJA8f6AAgDwAAJBAf4gAgEAAAJBDf4gAgEMAAJBIf4gAgEgAAJBFf4gAgEUAAJBIf4gAgEgAAJBHf4gAgEcAAJBFf4gAgEUAAJBHf4gAgEcAAJBDf6AAgEMAAJBDf4gAgEMAAJBDf4gAgEMAAJBFf4gAgEUAAJBIf4gAgEgAAJBFf4gAgEUAAJBHf4gAgEcAAJBDf4gAgEMAiAD/LwA=');\n",
       "                        });\n",
       "                </script>"
      ],
      "text/plain": [
       "<IPython.core.display.HTML object>"
      ]
     },
     "metadata": {},
     "output_type": "display_data"
    },
    {
     "name": "stdout",
     "output_type": "stream",
     "text": [
      "RECONSTRUCTION\n"
     ]
    },
    {
     "data": {
      "image/png": "[encoded data removed]",
      "text/plain": [
       "<IPython.core.display.Image object>"
      ]
     },
     "metadata": {
      "image/png": {
       "height": 202,
       "width": 751
      }
     },
     "output_type": "display_data"
    },
    {
     "data": {
      "text/html": [
       "\n",
       "                <div id='midiPlayerDiv6640'></div>\n",
       "                <link rel=\"stylesheet\" href=\"//cuthbertLab.github.io/music21j/css/m21.css\"\n",
       "                    type=\"text/css\" />\n",
       "                <script>\n",
       "                require.config({\n",
       "                    paths: {'music21': '//cuthbertLab.github.io/music21j/src/music21'}\n",
       "                });\n",
       "                require(['music21'], function() {\n",
       "                               mp = new music21.miditools.MidiPlayer();\n",
       "                               mp.addPlayer('#midiPlayerDiv6640');\n",
       "                               mp.base64Load('data:audio/midi;base64,TVRoZAAAAAYAAQABBABNVHJrAAABEQD/AwVQaWFubwDAAADgAEAAwAAA/1EDB6EgAP9YBAQCGAiIAJA8f4YAkEB/hACAPACGAIBAAACQQ3+IAIBDAACQQH+IAJBDf4IAgEAAVYBAAACQQH+FK4BDAACQQX+GAJBAf4RVgEEAhSuAQAAAkD5/hgCQPH+CAIA+AKAAgDwAAJBAf4gAgEAAAJBDf4YAkEh/ggCAQwCIAIBIAACQRX+IAIBFAACQSH+GAJBHf4IAgEgAAIBIAACQSH+IAIBHAACQRX+IAIBFAACQR3+GAJBDf4IAgEcArgCQRX+CVYBDAIcrgEUAAJBIf4YAkEV/ggCASACGAJBHf4IAgEUAhgCARwAAkEN/igCAQwCIAP8vAA==');\n",
       "                        });\n",
       "                </script>"
      ],
      "text/plain": [
       "<IPython.core.display.HTML object>"
      ]
     },
     "metadata": {},
     "output_type": "display_data"
    },
    {
     "name": "stdout",
     "output_type": "stream",
     "text": [
      "\n",
      "\n",
      "\n",
      "\n"
     ]
    }
   ],
   "source": [
    "if(model.train()):\n",
    "    model.eval()\n",
    "###PLAY WHOLE SONG IN BARS\n",
    "with torch.no_grad():\n",
    "    sampleNp1 = getSlicedPianorollMatrixNp(\"../WikifoniaDatabase/test/Hermann-Lohr,-D.-Eardley-Wilmot---Little-Grey-Home-In-The-West.mid\")\n",
    "    sampleNp1 = deleteZeroMatrices(sampleNp1)\n",
    "    \n",
    "    for i,sampleNp in enumerate(sampleNp1[:8]):\n",
    "        sampleNp = sampleNp[:,36:-32]\n",
    "        sample = torch.from_numpy(sampleNp).float()\n",
    "        embed, logvar = model.encoder(sample.reshape(1,1,length,reducedPitch).to(device))\n",
    "        ###RECONSTRUCTION#########\n",
    "        pred = model.decoder(embed)\n",
    "        ##########################\n",
    "        ###RANDOM RECONSTRUCTION##\n",
    "        std = torch.exp(0.2*logvar)\n",
    "        eps = torch.randn_like(std)\n",
    "        randomRecon = model.decoder(eps.mul(std).add_(embed))\n",
    "        ##########################\n",
    "\n",
    "        reconstruction = pred.squeeze(0).squeeze(0).cpu().numpy()\n",
    "        randomRecon = randomRecon.squeeze(0).squeeze(0).cpu().numpy()\n",
    "\n",
    "        #NORMALIZE PREDICTIONS\n",
    "        reconstruction /= np.abs(np.max(reconstruction))\n",
    "        randomRecon /= np.abs(np.max(randomRecon))\n",
    "\n",
    "        #CHECK MIDI ACTIVATIONS IN PREDICTION TO INCLUDE RESTS\n",
    "        reconstruction[reconstruction < 0.2] = 0\n",
    "        randomRecon[randomRecon < 0.3] = 0\n",
    "\n",
    "        samplePlay = debinarizeMidi(sampleNp, prediction=False)\n",
    "        samplePlay = addCuttedOctaves(samplePlay)\n",
    "        reconstruction = debinarizeMidi(reconstruction, prediction=True)\n",
    "        reconstruction = addCuttedOctaves(reconstruction)\n",
    "        randomRecon = debinarizeMidi(randomRecon, prediction=True)\n",
    "        randomRecon = addCuttedOctaves(randomRecon)\n",
    "        if(i==0):\n",
    "            sampleOut = samplePlay\n",
    "            reconOut = reconstruction\n",
    "            randomReconOut = randomRecon\n",
    "        else:\n",
    "            sampleOut = np.concatenate((sampleOut,samplePlay), axis=0)\n",
    "            reconOut = np.concatenate((reconOut,reconstruction), axis=0)\n",
    "            randomReconOut = np.concatenate((randomReconOut, randomRecon),axis=0)\n",
    "\n",
    "\n",
    "    print(\"INPUT\")\n",
    "    pianorollMatrixToTempMidi(sampleOut, show=True,showPlayer=True,autoplay=False,\n",
    "                             path='../temp/inputTemp.mid')\n",
    "    print(\"RECONSTRUCTION\")\n",
    "    pianorollMatrixToTempMidi(reconOut, show=True,showPlayer=True,autoplay=False,\n",
    "                             path='../temp/reconTemp.mid')\n",
    "    #print(\"Reconstruction with Noise\")\n",
    "    #pianorollMatrixToTempMidi(randomReconOut, show=True,showPlayer=True,autoplay=False,\n",
    "    #                         path='../temp/noiseReconTemp.mid')  \n",
    "    print(\"\\n\\n\")\n",
    "            \n",
    "\n",
    "print('')"
   ]
  },
  {
   "cell_type": "code",
   "execution_count": null,
   "metadata": {},
   "outputs": [],
   "source": []
  },
  {
   "cell_type": "code",
   "execution_count": null,
   "metadata": {},
   "outputs": [],
   "source": []
  }
 ],
 "metadata": {
  "kernelspec": {
   "display_name": "Python 3",
   "language": "python",
   "name": "python3"
  },
  "language_info": {
   "codemirror_mode": {
    "name": "ipython",
    "version": 3
   },
   "file_extension": ".py",
   "mimetype": "text/x-python",
   "name": "python",
   "nbconvert_exporter": "python",
   "pygments_lexer": "ipython3",
   "version": "3.6.5"
  }
 },
 "nbformat": 4,
 "nbformat_minor": 2
}
