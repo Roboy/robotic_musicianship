{
 "cells": [
  {
   "cell_type": "markdown",
   "metadata": {},
   "source": [
    "# Denoising Autoencoder (DAE)\n",
    "### Denoise How-To\n",
    "If you run the denoise function on a MIDI sequence it will plot:<br>\n",
    "1. Input\n",
    "2. Noisy input (Bernoulli noise)\n",
    "3. Denoised reconstruction\n",
    "4. Smoothed denoised reconstruction <br>\n",
    "\n",
    "\n",
    "### Variables:\n",
    "- file_path: path to a MIDI file\n",
    "- dae_model: the model you chose to load\n",
    "- play_bar: the measure of the MIDI file you want to use as input\n",
    "- play_it: plays and shows everything as score\n",
    "- smooth_threshold: sets the threshold (the length in MIDI ticks) for notes to be smoothed"
   ]
  },
  {
   "cell_type": "code",
   "execution_count": null,
   "metadata": {},
   "outputs": [],
   "source": [
    "import torch\n",
    "from UAE_DAE.UAE_DAE_Train import CAE_DAE\n",
    "from loadModel import loadStateDict\n",
    "from cae_dae_utils.denoise import denoise"
   ]
  },
  {
   "cell_type": "code",
   "execution_count": null,
   "metadata": {
    "scrolled": false
   },
   "outputs": [],
   "source": [
    "dae_path = '../utils/pretrained_models/DAE_model.pth'\n",
    "\n",
    "#for gpu\n",
    "device = torch.device(\"cuda\" if torch.cuda.is_available() else \"cpu\")\n",
    "\n",
    "#load models\n",
    "dae_model = CAE_DAE()\n",
    "\n",
    "#load weights\n",
    "dae_model = loadStateDict(dae_model, dae_path)\n",
    "\n",
    "# to device\n",
    "dae_model = dae_model.to(device)"
   ]
  },
  {
   "cell_type": "code",
   "execution_count": null,
   "metadata": {},
   "outputs": [],
   "source": [
    "denoise('../utils/midi_files/interpolateA.mid',\n",
    "       dae_model, play_bar=0, play_it=False, smooth_threshold=3)"
   ]
  },
  {
   "cell_type": "code",
   "execution_count": null,
   "metadata": {},
   "outputs": [],
   "source": []
  }
 ],
 "metadata": {
  "kernelspec": {
   "display_name": "Python 3",
   "language": "python",
   "name": "python3"
  },
  "language_info": {
   "codemirror_mode": {
    "name": "ipython",
    "version": 3
   },
   "file_extension": ".py",
   "mimetype": "text/x-python",
   "name": "python",
   "nbconvert_exporter": "python",
   "pygments_lexer": "ipython3",
   "version": "3.6.5"
  }
 },
 "nbformat": 4,
 "nbformat_minor": 2
}
