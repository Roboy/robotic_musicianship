{
 "cells": [
  {
   "cell_type": "markdown",
   "metadata": {},
   "source": [
    "# Sparse matrices\n",
    "Test if sparse matrix representation of data is faster than numpy, torch, lists"
   ]
  },
  {
   "cell_type": "code",
   "execution_count": null,
   "metadata": {},
   "outputs": [],
   "source": [
    "import numpy as np\n",
    "from scipy.sparse import csr_matrix\n",
    "import torch\n",
    "import glob\n",
    "import time\n",
    "import sys\n",
    "from utils.utils import *\n",
    "np.set_printoptions(threshold=np.inf)\n"
   ]
  },
  {
   "cell_type": "code",
   "execution_count": null,
   "metadata": {
    "scrolled": false
   },
   "outputs": [],
   "source": [
    "filesTrain = glob.glob(\"/Volumes/EXT/DATASETS/DougMcKenzieFiles_noDrums/test/*.mid\")\n",
    "start = time.time()\n",
    "\n",
    "midiDatasetTrain = getSlicedPianorollMatrixNp(filesTrain[0],binarize=True)\n",
    "for i, f in enumerate(filesTrain[1:]):\n",
    "    temp = getSlicedPianorollMatrixNp(f, binarize=True)\n",
    "    midiDatasetTrain = np.concatenate((midiDatasetTrain,temp))\n",
    "    if(i%10==0):\n",
    "        print(\"({}/{}) {} Sequences\".format(i,len(filesTrain),midiDatasetTrain.shape[0]))\n",
    "\n",
    "print(midiDatasetTrain.shape)\n",
    "print(midiDatasetTrain.nbytes)\n",
    "end = []\n",
    "for matrix in midiDatasetTrain:\n",
    "    #print(matrix.shape)\n",
    "    end.append(csr_matrix(matrix))\n",
    "print(\"This took {} seconds\".format(time.time()-start))\n",
    "#print(end)\n",
    "#print(len(end))\n",
    "#print(end)\n",
    "print(sys.getsizeof(end))\n",
    "\n",
    "\"\"\"\n",
    "lengthEnd = len(end)\n",
    "b = np.expand_dims(end[0].toarray(),axis=0)\n",
    "for i, matrix in enumerate(end[1:]):\n",
    "    #print(matrix.shape)\n",
    "    temp = np.expand_dims(matrix.toarray(),axis=0)\n",
    "    #print(matrix.shape)\n",
    "    b = np.concatenate((b,temp),axis=0)\n",
    "    if((i%100) == 0):\n",
    "        print(\"{}/{}\".format(i,lengthEnd))\n",
    "    \n",
    "print(np.array_equal(midiDatasetTrain,b))\n",
    "\n",
    "print(b.nbytes)\n",
    "\"\"\""
   ]
  },
  {
   "cell_type": "code",
   "execution_count": null,
   "metadata": {},
   "outputs": [],
   "source": [
    "print(len(end))"
   ]
  },
  {
   "cell_type": "code",
   "execution_count": null,
   "metadata": {},
   "outputs": [],
   "source": []
  }
 ],
 "metadata": {
  "kernelspec": {
   "display_name": "Python 3",
   "language": "python",
   "name": "python3"
  },
  "language_info": {
   "codemirror_mode": {
    "name": "ipython",
    "version": 3
   },
   "file_extension": ".py",
   "mimetype": "text/x-python",
   "name": "python",
   "nbconvert_exporter": "python",
   "pygments_lexer": "ipython3",
   "version": "3.6.5"
  }
 },
 "nbformat": 4,
 "nbformat_minor": 2
}
