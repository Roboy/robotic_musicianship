{
 "cells": [
  {
   "cell_type": "markdown",
   "metadata": {},
   "source": [
    "# Transposer\n",
    "This script transposes your midi files up and down and saves it on your computer as new midi files in the range of C2 to B7.\n",
    "Decided to do this in a seperate file to speed up preprocessing of the autoencoder."
   ]
  },
  {
   "cell_type": "code",
   "execution_count": 3,
   "metadata": {},
   "outputs": [],
   "source": [
    "import music21\n",
    "import glob\n",
    "import pypianoroll as ppr\n",
    "import os\n",
    "import numpy as np\n",
    "np.set_printoptions(threshold=np.inf)\n",
    "from utils.utilsPreprocessing import *"
   ]
  },
  {
   "cell_type": "code",
   "execution_count": 5,
   "metadata": {
    "scrolled": false
   },
   "outputs": [
    {
     "name": "stdout",
     "output_type": "stream",
     "text": [
      "0/24\n",
      "1/24\n",
      "2/24\n",
      "3/24\n",
      "4/24\n",
      "5/24\n",
      "6/24\n",
      "7/24\n",
      "8/24\n",
      "9/24\n",
      "10/24\n",
      "11/24\n",
      "12/24\n",
      "13/24\n",
      "14/24\n",
      "15/24\n",
      "16/24\n",
      "17/24\n",
      "18/24\n",
      "19/24\n",
      "20/24\n",
      "21/24\n",
      "22/24\n",
      "23/24\n"
     ]
    }
   ],
   "source": [
    "filesList = glob.glob('/Volumes/EXT/DATASETS/YamahaPianoCompetition2002/test/*.mid')\n",
    "\n",
    "for count, f in enumerate(filesList):\n",
    "    #print(f)\n",
    "    a = ppr.Multitrack(f,beat_resolution=24)\n",
    "    a = a.get_stacked_pianorolls()\n",
    "    #print(a.shape)\n",
    "    \"\"\"CHECK WHICH NOTES ARE HIGHER THAN B6 / LOWER THAN C2\n",
    "    #AND TRANSPOSE\"\"\"\n",
    "    a = np.rollaxis(a,2)\n",
    "    a = transposeNotesHigherLower(a)\n",
    "\n",
    "    \"\"\"CUT OCTAVES\"\"\"\n",
    "    #test1 = a\n",
    "    a = cutOctaves(a)\n",
    "    #test2 = addCuttedOctaves(a)\n",
    "    \n",
    "    #print(np.array_equal(test1,test2))\n",
    "    \n",
    "    for i in range(1,60,2):\n",
    "        #print(a.shape)\n",
    "        b = np.roll(a, i, axis = 2)\n",
    "        b = addCuttedOctaves(b)\n",
    "        #c = np.roll(a, -i, axis = 2)\n",
    "        #c = addCuttedOctaves(c)\n",
    "        #print(b.shape)\n",
    "        newTrack1 = ppr.Multitrack()\n",
    "        #newTrack2 = ppr.Multitrack()\n",
    "        for track in b:\n",
    "            tempTrack = ppr.Track(track)\n",
    "            newTrack1.append_track(tempTrack)\n",
    "        #for track in c:\n",
    "        #    tempTrack = ppr.Track(track)\n",
    "        #    newTrack2.append_track(tempTrack)\n",
    "        newTrack1.write((os.path.splitext(f)[0]+'TpUp{}'.format(i)))\n",
    "        #newTrack2.write((os.path.splitext(f)[0]+'TpDown{}'.format(i)))\n",
    "\n",
    "    print(\"{}/{}\".format(count,len(filesList)))"
   ]
  },
  {
   "cell_type": "markdown",
   "metadata": {},
   "source": []
  }
 ],
 "metadata": {
  "kernelspec": {
   "display_name": "Python 3",
   "language": "python",
   "name": "python3"
  },
  "language_info": {
   "codemirror_mode": {
    "name": "ipython",
    "version": 3
   },
   "file_extension": ".py",
   "mimetype": "text/x-python",
   "name": "python",
   "nbconvert_exporter": "python",
   "pygments_lexer": "ipython3",
   "version": "3.6.5"
  }
 },
 "nbformat": 4,
 "nbformat_minor": 2
}
