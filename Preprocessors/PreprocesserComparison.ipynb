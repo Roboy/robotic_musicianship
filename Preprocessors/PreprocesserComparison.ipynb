{
 "cells": [
  {
   "cell_type": "markdown",
   "metadata": {},
   "source": [
    "# Preprocess Comparison\n",
    "This script compares the time to preprocess midi files. Comparison of python lists, numpy, torch."
   ]
  },
  {
   "cell_type": "code",
   "execution_count": 1,
   "metadata": {},
   "outputs": [],
   "source": [
    "import numpy as np\n",
    "import torch\n",
    "import glob\n",
    "import time\n",
    "from utils.utils import *"
   ]
  },
  {
   "cell_type": "code",
   "execution_count": 2,
   "metadata": {},
   "outputs": [
    {
     "name": "stdout",
     "output_type": "stream",
     "text": [
      "(160, 96, 128)\n"
     ]
    }
   ],
   "source": [
    "a = getSlicedPianorollMatrixNp(\"../DougMcKenzieFiles/train/ARemark.mid\")\n",
    "print(a.shape)"
   ]
  },
  {
   "cell_type": "code",
   "execution_count": 3,
   "metadata": {
    "scrolled": false
   },
   "outputs": [
    {
     "name": "stdout",
     "output_type": "stream",
     "text": [
      "PREPROCESS TRAINING DATA\n",
      "0/250\n"
     ]
    },
    {
     "name": "stderr",
     "output_type": "stream",
     "text": [
      "/Users/nw/Uni/Midi_Parser/.env3/lib/python3.6/site-packages/pretty_midi/pretty_midi.py:100: RuntimeWarning: Tempo, Key or Time signature change events found on non-zero tracks.  This is not a valid type 0 or type 1 MIDI file.  Tempo, Key or Time Signature may be wrong.\n",
      "  RuntimeWarning)\n"
     ]
    },
    {
     "name": "stdout",
     "output_type": "stream",
     "text": [
      "10/250\n",
      "20/250\n",
      "30/250\n",
      "40/250\n",
      "50/250\n",
      "60/250\n",
      "70/250\n",
      "80/250\n",
      "90/250\n",
      "100/250\n",
      "110/250\n",
      "120/250\n",
      "130/250\n",
      "140/250\n",
      "150/250\n",
      "160/250\n",
      "170/250\n",
      "180/250\n",
      "190/250\n",
      "200/250\n",
      "210/250\n",
      "220/250\n",
      "230/250\n",
      "240/250\n",
      "This already took 77 seconds\n",
      "PREPROCESS TEST DATA\n",
      "0/46\n",
      "10/46\n",
      "20/46\n",
      "30/46\n",
      "40/46\n",
      "Size of training set: (71026, 1, 96, 60)\n",
      "Size of test set: (13025, 1, 96, 60)\n",
      "This took 93 seconds\n"
     ]
    }
   ],
   "source": [
    "\"\"\"PREPROCESSING OF TRAINING DATA\"\"\"\n",
    "\n",
    "print(\"PREPROCESS TRAINING DATA\")\n",
    "start_time = time.time()\n",
    "filesTrain = glob.glob(\"/Volumes/EXT/DATASETS/DougMcKenzieFiles_noDrums/train/*.mid\")\n",
    "\n",
    "\n",
    "midiDatasetTrain = []\n",
    "for i, f in enumerate(filesTrain):\n",
    "    #print(f)\n",
    "    tempSeqList = getSlicedPianorollMatrixList(f,binarize=True)\n",
    "    #print(tempSeqList)\n",
    "    for temp in tempSeqList:\n",
    "        #print(temp)\n",
    "        midiDatasetTrain.append(temp)\n",
    "    \n",
    "    if(i%10==0):\n",
    "        print(\"{}/{}\".format(i,len(filesTrain)))\n",
    "\n",
    "midiDatasetTrain = np.array(midiDatasetTrain)\n",
    "\n",
    "midiDatasetTrain = transposeNotesHigherLower(midiDatasetTrain)\n",
    "midiDatasetTrain = cutOctaves(midiDatasetTrain)\n",
    "midiDatasetTrain = deleteZeroMatrices(midiDatasetTrain)\n",
    "\n",
    "###TRANPOSE TRAINING DATA###\n",
    "#midiDatasetTrain = transposeTracks(midiDatasetTrain)\n",
    "midiDatasetTrain = np.expand_dims(midiDatasetTrain,axis=1)\n",
    "\n",
    "\n",
    "print(\"This already took %i seconds\"%(time.time()-start_time))\n",
    "\n",
    "###PREPROCESSING OF TEST DATA###\n",
    "print(\"PREPROCESS TEST DATA\")\n",
    "filesTest = glob.glob(\"/Volumes/EXT/DATASETS/DougMcKenzieFiles_noDrums/test/*.mid\")\n",
    "midiDatasetTest = []\n",
    "for i, f in enumerate(filesTest):\n",
    "    #print(f)\n",
    "    tempSeqList = getSlicedPianorollMatrixList(f,binarize=True)\n",
    "    #print(tempSeqList)\n",
    "    for temp in tempSeqList:\n",
    "        #print(temp)\n",
    "        midiDatasetTest.append(temp)\n",
    "    if(i%10==0):\n",
    "        print(\"{}/{}\".format(i,len(filesTest)))\n",
    "\n",
    "midiDatasetTest = np.array(midiDatasetTest)\n",
    "\n",
    "midiDatasetTest = transposeNotesHigherLower(midiDatasetTest)\n",
    "midiDatasetTest = cutOctaves(midiDatasetTest)\n",
    "midiDatasetTest = deleteZeroMatrices(midiDatasetTest)\n",
    "\n",
    "###TRANPOSE TRAINING DATA###\n",
    "#midiDatasetTest = transposeTracks(midiDatasetTest)\n",
    "midiDatasetTest = np.expand_dims(midiDatasetTest,axis=1)\n",
    "\n",
    "print(\"Size of training set: {}\".format(midiDatasetTrain.shape))\n",
    "print(\"Size of test set: {}\".format(midiDatasetTest.shape))\n",
    "print(\"This took %i seconds\"%(time.time()-start_time))\n"
   ]
  },
  {
   "cell_type": "code",
   "execution_count": null,
   "metadata": {},
   "outputs": [],
   "source": []
  },
  {
   "cell_type": "code",
   "execution_count": null,
   "metadata": {},
   "outputs": [],
   "source": []
  },
  {
   "cell_type": "code",
   "execution_count": null,
   "metadata": {},
   "outputs": [],
   "source": []
  },
  {
   "cell_type": "code",
   "execution_count": 5,
   "metadata": {
    "scrolled": false
   },
   "outputs": [
    {
     "name": "stdout",
     "output_type": "stream",
     "text": [
      "PREPROCESS TRAINING DATA\n"
     ]
    },
    {
     "name": "stderr",
     "output_type": "stream",
     "text": [
      "/Users/nw/Uni/Midi_Parser/.env3/lib/python3.6/site-packages/pretty_midi/pretty_midi.py:100: RuntimeWarning: Tempo, Key or Time signature change events found on non-zero tracks.  This is not a valid type 0 or type 1 MIDI file.  Tempo, Key or Time Signature may be wrong.\n",
      "  RuntimeWarning)\n"
     ]
    },
    {
     "name": "stdout",
     "output_type": "stream",
     "text": [
      "0/250\n",
      "10/250\n",
      "20/250\n",
      "30/250\n",
      "40/250\n",
      "50/250\n",
      "60/250\n",
      "70/250\n",
      "80/250\n",
      "90/250\n",
      "100/250\n",
      "110/250\n",
      "120/250\n",
      "130/250\n",
      "140/250\n",
      "150/250\n",
      "160/250\n",
      "170/250\n",
      "180/250\n",
      "190/250\n",
      "200/250\n",
      "210/250\n",
      "220/250\n",
      "230/250\n",
      "240/250\n",
      "This already took 182 seconds\n",
      "PREPROCESS TEST DATA\n",
      "0/46\n",
      "10/46\n",
      "20/46\n",
      "30/46\n",
      "40/46\n",
      "Size of training: (71026, 1, 96, 60)\n",
      "Size of test set: (13025, 1, 96, 60)\n",
      "This took 200 seconds\n"
     ]
    }
   ],
   "source": [
    "\"\"\"NUMPY\"\"\"\n",
    "###PREPROCESSING OF TRAINING DATA###\n",
    "\n",
    "print(\"PREPROCESS TRAINING DATA\")\n",
    "start_time = time.time()\n",
    "filesTrain = glob.glob(\"/Volumes/EXT/DATASETS/DougMcKenzieFiles_noDrums/train/*.mid\")\n",
    "\n",
    "\n",
    "midiDatasetTrain = getSlicedPianorollMatrixNp(filesTrain[0],binarize=True)\n",
    "#print(midiDatasetTrain.shape)\n",
    "for i, f in enumerate(filesTrain[1:]):\n",
    "    temp = getSlicedPianorollMatrixNp(f, binarize=True)\n",
    "    #print(temp.shape)\n",
    "    midiDatasetTrain = np.concatenate((midiDatasetTrain,temp),axis=0)\n",
    "    #print(midiDatasetTrain.shape)\n",
    "    if(i%10==0):\n",
    "        print(\"{}/{}\".format(i,len(filesTrain)))\n",
    "    \n",
    "\n",
    "\n",
    "midiDatasetTrain = transposeNotesHigherLower(midiDatasetTrain)\n",
    "midiDatasetTrain = cutOctaves(midiDatasetTrain)\n",
    "midiDatasetTrain = deleteZeroMatrices(midiDatasetTrain)\n",
    "\n",
    "###TRANPOSE TRAINING DATA###\n",
    "#midiDatasetTrain = transposeTracks(midiDatasetTrain)\n",
    "midiDatasetTrain = np.expand_dims(midiDatasetTrain,axis=1)\n",
    "\n",
    "print(\"This already took %i seconds\"%(time.time()-start_time))\n",
    "\n",
    "###PREPROCESSING OF TEST DATA###\n",
    "\n",
    "print(\"PREPROCESS TEST DATA\")\n",
    "filesTest = glob.glob(\"/Volumes/EXT/DATASETS/DougMcKenzieFiles_noDrums/test/*.mid\")\n",
    "midiDatasetTest = getSlicedPianorollMatrixNp(filesTest[0],binarize=True)\n",
    "for i, f in enumerate(filesTest[1:]):\n",
    "    temp = getSlicedPianorollMatrixNp(f, binarize=True)\n",
    "    midiDatasetTest = np.concatenate((midiDatasetTest,temp))\n",
    "    if(i%10==0):\n",
    "        print(\"{}/{}\".format(i,len(filesTest)))\n",
    "\n",
    "\n",
    "midiDatasetTest = transposeNotesHigherLower(midiDatasetTest)\n",
    "midiDatasetTest = cutOctaves(midiDatasetTest)\n",
    "midiDatasetTest = deleteZeroMatrices(midiDatasetTest)\n",
    "\n",
    "###TRANPOSE TRAINING DATA###\n",
    "#midiDatasetTest = transposeTracks(midiDatasetTest)\n",
    "midiDatasetTest = np.expand_dims(midiDatasetTest,axis=1)\n",
    "\n",
    "print(\"Size of training: {}\".format(midiDatasetTrain.shape))\n",
    "print(\"Size of test set: {}\".format(midiDatasetTest.shape))\n",
    "print(\"This took %i seconds\"%(time.time()-start_time))\n"
   ]
  },
  {
   "cell_type": "code",
   "execution_count": null,
   "metadata": {},
   "outputs": [],
   "source": []
  },
  {
   "cell_type": "code",
   "execution_count": 6,
   "metadata": {},
   "outputs": [
    {
     "name": "stdout",
     "output_type": "stream",
     "text": [
      "PREPROCESS TRAINING DATA\n"
     ]
    },
    {
     "name": "stderr",
     "output_type": "stream",
     "text": [
      "/Users/nw/Uni/Midi_Parser/.env3/lib/python3.6/site-packages/pretty_midi/pretty_midi.py:100: RuntimeWarning: Tempo, Key or Time signature change events found on non-zero tracks.  This is not a valid type 0 or type 1 MIDI file.  Tempo, Key or Time Signature may be wrong.\n",
      "  RuntimeWarning)\n"
     ]
    },
    {
     "name": "stdout",
     "output_type": "stream",
     "text": [
      "0/250\n",
      "10/250\n",
      "20/250\n",
      "30/250\n",
      "40/250\n",
      "50/250\n",
      "60/250\n",
      "70/250\n",
      "80/250\n",
      "90/250\n",
      "100/250\n",
      "110/250\n",
      "120/250\n",
      "130/250\n",
      "140/250\n",
      "150/250\n",
      "160/250\n",
      "170/250\n",
      "180/250\n",
      "190/250\n",
      "200/250\n",
      "210/250\n",
      "220/250\n",
      "230/250\n",
      "240/250\n",
      "This already took 212 seconds\n",
      "PREPROCESS TEST DATA\n",
      "0/46\n",
      "10/46\n",
      "20/46\n",
      "30/46\n",
      "40/46\n",
      "Size of training set: torch.Size([71026, 1, 96, 60])\n",
      "Size of test set: torch.Size([13025, 1, 96, 60])\n",
      "This took 231 seconds\n"
     ]
    }
   ],
   "source": [
    "\"\"\"TORCH\"\"\"\n",
    "###PREPROCESSING OF TRAINING DATA###\n",
    "\n",
    "print(\"PREPROCESS TRAINING DATA\")\n",
    "start_time = time.time()\n",
    "filesTrain = glob.glob(\"/Volumes/EXT/DATASETS/DougMcKenzieFiles_noDrums/train/*.mid\")\n",
    "\n",
    "\n",
    "midiDatasetTrain = getSlicedPianorollMatrixTorch(filesTrain[0],binarize=True)\n",
    "for i, f in enumerate(filesTrain[1:]):\n",
    "    temp = getSlicedPianorollMatrixTorch(f, binarize=True)\n",
    "    midiDatasetTrain = torch.cat((midiDatasetTrain,temp))\n",
    "    if(i%10==0):\n",
    "        print(\"{}/{}\".format(i,len(filesTrain)))\n",
    "    \n",
    "midiDatasetTrain = midiDatasetTrain.float().numpy()\n",
    "\n",
    "midiDatasetTrain = transposeNotesHigherLower(midiDatasetTrain)\n",
    "midiDatasetTrain = cutOctaves(midiDatasetTrain)\n",
    "midiDatasetTrain = deleteZeroMatrices(midiDatasetTrain)\n",
    "\n",
    "midiDatasetTrain = torch.from_numpy(midiDatasetTrain)\n",
    "###TRANPOSE TRAINING DATA###\n",
    "#midiDatasetTrain = transposeTracks(midiDatasetTrain)\n",
    "midiDatasetTrain = torch.unsqueeze(midiDatasetTrain,1)\n",
    "\n",
    "print(\"This already took %i seconds\"%(time.time()-start_time))\n",
    "\n",
    "###PREPROCESSING OF TEST DATA###\n",
    "\n",
    "print(\"PREPROCESS TEST DATA\")\n",
    "filesTest = glob.glob(\"/Volumes/EXT/DATASETS/DougMcKenzieFiles_noDrums/test/*.mid\")\n",
    "midiDatasetTest = getSlicedPianorollMatrixTorch(filesTest[0],binarize=True)\n",
    "for i, f in enumerate(filesTest[1:]):\n",
    "    temp = getSlicedPianorollMatrixTorch(f, binarize=True)\n",
    "    midiDatasetTest = torch.cat((midiDatasetTest,temp))\n",
    "    if(i%10==0):\n",
    "        print(\"{}/{}\".format(i,len(filesTest)))\n",
    "\n",
    "midiDatasetTest = midiDatasetTest.float().numpy()\n",
    "        \n",
    "midiDatasetTest = transposeNotesHigherLower(midiDatasetTest)\n",
    "midiDatasetTest = cutOctaves(midiDatasetTest)\n",
    "midiDatasetTest = deleteZeroMatrices(midiDatasetTest)\n",
    "\n",
    "midiDatasetTest = torch.from_numpy(midiDatasetTest)\n",
    "###TRANPOSE TRAINING DATA###\n",
    "#midiDatasetTest = transposeTracks(midiDatasetTest)\n",
    "midiDatasetTest = torch.unsqueeze(midiDatasetTest,1)\n",
    "\n",
    "print(\"Size of training set: {}\".format(midiDatasetTrain.size()))\n",
    "print(\"Size of test set: {}\".format(midiDatasetTest.size()))\n",
    "print(\"This took %i seconds\"%(time.time()-start_time))"
   ]
  },
  {
   "cell_type": "code",
   "execution_count": null,
   "metadata": {},
   "outputs": [],
   "source": []
  },
  {
   "cell_type": "code",
   "execution_count": null,
   "metadata": {},
   "outputs": [],
   "source": []
  },
  {
   "cell_type": "code",
   "execution_count": null,
   "metadata": {},
   "outputs": [],
   "source": []
  },
  {
   "cell_type": "code",
   "execution_count": null,
   "metadata": {},
   "outputs": [],
   "source": []
  }
 ],
 "metadata": {
  "kernelspec": {
   "display_name": "Python 3",
   "language": "python",
   "name": "python3"
  },
  "language_info": {
   "codemirror_mode": {
    "name": "ipython",
    "version": 3
   },
   "file_extension": ".py",
   "mimetype": "text/x-python",
   "name": "python",
   "nbconvert_exporter": "python",
   "pygments_lexer": "ipython3",
   "version": "3.6.5"
  }
 },
 "nbformat": 4,
 "nbformat_minor": 2
}
