{
 "cells": [
  {
   "cell_type": "markdown",
   "metadata": {},
   "source": [
    "# MIDI file cutter\n",
    ">cuts midi files in 1 bar sequences and writes to disk <br>\n",
    "__CAUTION__: You have to manually create the folder, where you want to place the cut sequences, I used /sequences"
   ]
  },
  {
   "cell_type": "code",
   "execution_count": null,
   "metadata": {},
   "outputs": [],
   "source": [
    "import numpy as np\n",
    "import glob\n",
    "import time\n",
    "import os\n",
    "import pypianoroll as ppr\n",
    "from utils.utilsPreprocessing import *"
   ]
  },
  {
   "cell_type": "code",
   "execution_count": null,
   "metadata": {},
   "outputs": [],
   "source": [
    "beat_res = 24\n",
    "seq_length = 96"
   ]
  },
  {
   "cell_type": "code",
   "execution_count": null,
   "metadata": {},
   "outputs": [],
   "source": [
    "def cut_single_track(track):\n",
    "    too_long = track.shape[0]%seq_length\n",
    "    if(too_long != 0):\n",
    "        track = track[:-too_long,:]\n",
    "    sequences = np.array(np.vsplit(track, int(track.shape[0]/seq_length)))\n",
    "    return sequences\n",
    "\n",
    "def write_to_disk(sequences, path):\n",
    "    for i, seq in enumerate(sequences):\n",
    "        if(seq.shape[0]!=96):\n",
    "            print(seq.shape)\n",
    "        if(np.any(seq)):\n",
    "            tempTrack = ppr.Track(seq)\n",
    "            newTrack = ppr.Multitrack()\n",
    "            newTrack.append_track(tempTrack)\n",
    "            newTrack.write(os.path.dirname(path)+'/sequences/'+os.path.splitext(os.path.basename(path))[0]+'_{}'.format(i))\n",
    "        else:\n",
    "            continue\n",
    "                       \n",
    "def write_to_disk_npz(sequences, path):\n",
    "    for i, seq in enumerate(sequences):\n",
    "        if(seq.shape[0]!=96):\n",
    "            print(seq.shape)\n",
    "        if(np.any(seq)):\n",
    "            #np.save(os.path.dirname(path)+'/sequences/'+os.path.splitext(os.path.basename(path))[0]+'_{}'.format(i), seq)\n",
    "            tempTrack = ppr.Track(seq)\n",
    "            newTrack = ppr.Multitrack()\n",
    "            newTrack.append_track(tempTrack)\n",
    "            newTrack.save(os.path.dirname(path)+'/sequences/'+os.path.splitext(os.path.basename(path))[0]+'_{}'.format(i))\n",
    "        else:\n",
    "            continue    "
   ]
  },
  {
   "cell_type": "code",
   "execution_count": null,
   "metadata": {},
   "outputs": [],
   "source": [
    "path_to_files = glob.glob('/Volumes/EXT/DATASETS/YamahaPC2002_TpBy60_ALLFILES/*.mid')\n",
    "\n",
    "for i, path in enumerate(path_to_files):\n",
    "    track = ppr.Multitrack(path, beat_resolution=beat_res)\n",
    "    track = track.get_stacked_pianoroll()\n",
    "    \n",
    "    #single track midi file\n",
    "    if(track.shape[2] == 1):\n",
    "        track = np.squeeze(track,2)\n",
    "        sequences = cut_single_track(track)\n",
    "        write_to_disk_npz(sequences, path)\n",
    "        \n",
    "    #multitrack midi file\n",
    "    else:\n",
    "        track = np.rollaxis(track,2,0)\n",
    "        for track_number,instrument_track in enumerate(track):\n",
    "            temp_path = os.path.splitext(path)[0]+'_'+str(track_number)+'_'+os.path.splitext(path)[1]\n",
    "            sequences = cut_single_track(instrument_track)\n",
    "            write_to_disk_npz(sequences, temp_path)\n",
    "    \n",
    "    print('{}/{} tracks have been cut'.format(i+1,len(path_to_files)))"
   ]
  },
  {
   "cell_type": "code",
   "execution_count": null,
   "metadata": {},
   "outputs": [],
   "source": []
  }
 ],
 "metadata": {
  "kernelspec": {
   "display_name": "Python 3",
   "language": "python",
   "name": "python3"
  },
  "language_info": {
   "codemirror_mode": {
    "name": "ipython",
    "version": 3
   },
   "file_extension": ".py",
   "mimetype": "text/x-python",
   "name": "python",
   "nbconvert_exporter": "python",
   "pygments_lexer": "ipython3",
   "version": "3.6.5"
  }
 },
 "nbformat": 4,
 "nbformat_minor": 2
}
