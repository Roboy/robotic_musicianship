{
 "cells": [
  {
   "cell_type": "code",
   "execution_count": 1,
   "metadata": {},
   "outputs": [],
   "source": [
    "import numpy as np\n",
    "import glob\n",
    "import pypianoroll as ppr\n",
    "import time\n",
    "import music21\n",
    "import os\n",
    "import torch\n",
    "import torch.utils.data\n",
    "from torch import nn, optim\n",
    "from torch.nn import functional as F\n",
    "from utils.utilsPreprocessing import *\n",
    "#np.set_printoptions(threshold=np.inf)\n",
    "#torch.set_printoptions(threshold=50000)"
   ]
  },
  {
   "cell_type": "code",
   "execution_count": 2,
   "metadata": {},
   "outputs": [],
   "source": [
    "##################################\n",
    "#HYPERPARAMS\n",
    "##################################\n",
    "epochs = 1\n",
    "learning_rate = 1e-4\n",
    "batch_size= 98\n",
    "log_interval = 1  #Log/show loss per batch"
   ]
  },
  {
   "cell_type": "markdown",
   "metadata": {},
   "source": [
    "# Load MIDI files from npz"
   ]
  },
  {
   "cell_type": "code",
   "execution_count": 3,
   "metadata": {},
   "outputs": [
    {
     "name": "stdout",
     "output_type": "stream",
     "text": [
      "Training set: (4056, 1, 96, 60)\n",
      "Test set: (1034, 1, 96, 60)\n"
     ]
    }
   ],
   "source": [
    "data = np.load('/Volumes/EXT/DATASETS/WikifoniaPartlyNoTranspose.npz')\n",
    "\n",
    "midiDatasetTrain = data['train']\n",
    "midiDatasetTest = data['test']\n",
    "\n",
    "data.close()\n",
    "\n",
    "\"\"\"\n",
    "print(\"Training set: ({}, {}, {}, {})\".format(midiDatasetTrain.size()[0],\n",
    "                                                midiDatasetTrain.size()[1],\n",
    "                                                midiDatasetTrain.size()[2],\n",
    "                                                midiDatasetTrain.size()[3]))\n",
    "print(\"Test set: ({}, {}, {}, {})\".format(midiDatasetTest.size()[0],\n",
    "                                                midiDatasetTest.size()[1],\n",
    "                                                midiDatasetTest.size()[2],\n",
    "                                                midiDatasetTest.size()[3]))\n",
    "\"\"\"\n",
    "\n",
    "print(\"Training set: {}\".format(midiDatasetTrain.shape))\n",
    "print(\"Test set: {}\".format(midiDatasetTest.shape))"
   ]
  },
  {
   "cell_type": "code",
   "execution_count": 4,
   "metadata": {},
   "outputs": [],
   "source": [
    "#print(getSlicedPianorollMatrix('WikifoniaServer/train80/Ahmad-Jamal---Poinciana.mid').shape)"
   ]
  },
  {
   "cell_type": "code",
   "execution_count": 5,
   "metadata": {
    "scrolled": false
   },
   "outputs": [],
   "source": [
    "fullPitch = 128\n",
    "_, _, length, reducedPitch = midiDatasetTrain.shape"
   ]
  },
  {
   "cell_type": "markdown",
   "metadata": {},
   "source": [
    "# CDVAE"
   ]
  },
  {
   "cell_type": "code",
   "execution_count": 6,
   "metadata": {},
   "outputs": [],
   "source": [
    "device = torch.device(\"cuda\" if torch.cuda.is_available() else \"cpu\")"
   ]
  },
  {
   "cell_type": "code",
   "execution_count": 7,
   "metadata": {},
   "outputs": [],
   "source": [
    "midiDatasetTrain = torch.from_numpy(midiDatasetTrain)\n",
    "trainLoader = torch.utils.data.DataLoader(midiDatasetTrain, batch_size=batch_size, shuffle=False, drop_last=True)\n",
    "\n",
    "midiDatasetTest = torch.from_numpy(midiDatasetTest)\n",
    "testLoader = torch.utils.data.DataLoader(midiDatasetTest, batch_size=batch_size, shuffle=False, drop_last=True)"
   ]
  },
  {
   "cell_type": "code",
   "execution_count": 17,
   "metadata": {
    "scrolled": false
   },
   "outputs": [],
   "source": [
    "class CDVAE(nn.Module):\n",
    "    def __init__(self, batch_size=7, tie_weights=True):\n",
    "        super(CDVAE, self).__init__()\n",
    "        \n",
    "        self.batch_size = batch_size\n",
    "        \n",
    "        ###ENCODER###\n",
    "        self.conv1 = nn.Conv2d(1,100,(16,5),stride=(16,5),padding=0)\n",
    "        self.bn1 = nn.BatchNorm2d(100)\n",
    "        self.elu1 = nn.ELU()\n",
    "        self.conv2 = nn.Conv2d(100,200,(2,1),stride=(2,1),padding=0)\n",
    "        self.bn2 = nn.BatchNorm2d(200)\n",
    "        self.elu2 = nn.ELU()\n",
    "        self.conv3 = nn.Conv2d(200,400,(2,2),stride=(1,2),padding=0)\n",
    "        self.bn3 = nn.BatchNorm2d(400)\n",
    "        self.elu3 = nn.ELU()\n",
    "        self.conv4 = nn.Conv2d(400,800,(2,2),stride=(2,2),padding=0)\n",
    "        self.bn4 = nn.BatchNorm2d(800)\n",
    "        self.elu4 = nn.ELU()\n",
    "        \n",
    "        self.fc5 =  nn.Linear(2400,800)\n",
    "        self.bn5 = nn.BatchNorm1d(800)\n",
    "        self.elu5 = nn.ELU()\n",
    "        self.fc6 = nn.Linear(800,400)\n",
    "        self.bn6 = nn.BatchNorm1d(400)\n",
    "        self.elu6 = nn.ELU()\n",
    "        self.fc7 = nn.Linear(400,100)\n",
    "        self.bn7 = nn.BatchNorm1d(100)\n",
    "        self.elu7 = nn.ELU()\n",
    "        \n",
    "        ###LSTM###\n",
    "        self.lstm = nn.LSTM(input_size=100, hidden_size=400, num_layers=3)\n",
    "        self.fc = nn.Linear(400,100)\n",
    "\n",
    "    \n",
    "    def encoder(self, x):\n",
    "        #print(\"ENOCDER\")\n",
    "        hEnc = self.conv1(x); hEnc = self.bn1(hEnc); hEnc = self.elu1(hEnc)\n",
    "        hEnc = self.conv2(hEnc); hEnc = self.bn2(hEnc); hEnc = self.elu2(hEnc)\n",
    "        hEnc = self.conv3(hEnc); hEnc = self.bn3(hEnc); hEnc = self.elu3(hEnc)\n",
    "        hEnc = self.conv4(hEnc); hEnc = self.bn4(hEnc); hEnc = self.elu4(hEnc)\n",
    "        \n",
    "        hEnc = torch.squeeze(hEnc,3).view(-1,800*3)\n",
    "\n",
    "        hEnc = self.fc5(hEnc); hEnc = self.bn5(hEnc); hEnc = self.elu5(hEnc)\n",
    "        hEnc = self.fc6(hEnc); hEnc = self.bn6(hEnc); hEnc = self.elu6(hEnc)\n",
    "        hEnc = self.fc7(hEnc); hEnc = self.bn7(hEnc); hEnc = self.elu7(hEnc)\n",
    "        return hEnc\n",
    "\n",
    "    def decoder(self, z):\n",
    "        #print(\"DECODER\")\n",
    "        hDec = F.linear(z,weight=self.fc7.weight.transpose(0,1),bias=None)\n",
    "        ###BATCHNORM NOT NEEDED??\n",
    "        #hDec = F.batch_norm(hDec, running_mean=self.bn6.running_mean,\n",
    "        #                    running_var=self.bn6.running_var, weight=self.bn6.weight)\n",
    "        hDec = F.elu(hDec)\n",
    "        hDec = F.linear(hDec,weight=self.fc6.weight.transpose(0,1),bias=None)\n",
    "        hDec = F.elu(hDec)\n",
    "        hDec = F.linear(hDec,weight=self.fc5.weight.transpose(0,1),bias=None)\n",
    "        hDec = F.elu(hDec)\n",
    "        \n",
    "        hDec = hDec.view(hDec.size()[0],800,-1).unsqueeze(2)\n",
    "        \n",
    "        hDec = F.conv_transpose2d(hDec, weight=self.conv4.weight,\n",
    "                                 bias=None,stride=(2,2),padding=0)\n",
    "        hDec = F.elu(hDec)\n",
    "        hDec = F.conv_transpose2d(hDec, weight=self.conv3.weight,\n",
    "                                 bias=None,stride=(1,2),padding=0)\n",
    "        hDec = F.elu(hDec)\n",
    "        hDec = F.conv_transpose2d(hDec, weight=self.conv2.weight,\n",
    "                                 bias=None,stride=(2,1),padding=0)\n",
    "        hDec = F.elu(hDec)\n",
    "        hDec = F.conv_transpose2d(hDec, weight=self.conv1.weight,\n",
    "                                  bias=None,stride=(16,5),padding=0)\n",
    "        hDec = F.elu(hDec)\n",
    "\n",
    "        return hDec\n",
    "\n",
    "\n",
    "    def forward(self, x, embedding_only=False):\n",
    "        embed = self.encoder(x)\n",
    "        \n",
    "        if(embedding_only):\n",
    "            return embed\n",
    "        else:\n",
    "            ####MOVE TO HIDDEN_INIT\n",
    "            h_t = torch.zeros(3,int(embed.size()[0]/7),400).to(device)\n",
    "            c_t = torch.zeros(3,int(embed.size()[0]/7),400).to(device)\n",
    "            ###HIDDEN INIT END\n",
    "\n",
    "            #IF FOR TESTING UNKNOWN SEQUENCES\n",
    "\n",
    "            if(embed.size()[0]>7):\n",
    "                embedTemp = torch.chunk(embed, int(self.batch_size/7),dim=0)\n",
    "                #print(len(embedTemp))\n",
    "                embed7s = embedTemp[0].unsqueeze(1)\n",
    "                for emb in embedTemp[1:]:\n",
    "                    embed7s = torch.cat((embed7s, emb.unsqueeze(1)),dim=1)\n",
    "            else:\n",
    "                embed7s = embed.unsqueeze(1)\n",
    "\n",
    "            lstmOut, (h_t, c_t) = self.lstm(embed7s,(h_t, c_t))\n",
    "            lstmOut = self.fc(lstmOut)\n",
    "\n",
    "            return embed, lstmOut, self.decoder(lstmOut[-1,:,:])\n",
    "    \n",
    "model = CDVAE(batch_size=batch_size).to(device)\n",
    "optimizer = optim.Adam(model.parameters(), lr=learning_rate)\n",
    "\n",
    "\n",
    "def loss_function(embed, lstmOut, embedNext, model, dataset):\n",
    "    \n",
    "    cosLSTM = nn.CosineSimilarity(dim=0, eps=1e-8)\n",
    "    \n",
    "    cosSimLSTM = 0\n",
    "    #BATCHSIZE 7\n",
    "    if(embed.size()[0]==7):\n",
    "        #print(\"batchsize = 7 ?\")\n",
    "        cosSimLSTM = cosLSTM(lstmOut.squeeze(1)[-1], embedNext[0])\n",
    "     \n",
    "    #BATCHSIZE > 7\n",
    "    else:\n",
    "        j=0\n",
    "        for i in range(7,embed.size()[0],7):\n",
    "            #print(i)\n",
    "            cosSimLSTM += cosLSTM(lstmOut[-1,j,:],embed[i])\n",
    "            j+=1\n",
    "            rand = np.random.randint(0,len(trainLoader)-1)\n",
    "            embedding999 = trainLoader.dataset[rand:rand+1,:,:,:]\n",
    "            for i in range(1,10):\n",
    "                rand = np.random.randint(0,len(trainLoader)-1)\n",
    "                embedTemp = trainLoader.dataset[rand:rand+1,:,:,:]\n",
    "                embedding999 = torch.cat((embedding999,embedTemp),dim=0)\n",
    "            embedding999 = embedding999.float().to(device)\n",
    "            embedding999 = model(embedding999,embedding_only=True)\n",
    "            \n",
    "        print(embedding999.size())\n",
    "            \n",
    "            \n",
    "        cosSimLSTM += cosLSTM(lstmOut[-1,j,:],embedNext[0])\n",
    "\n",
    "\n",
    "    \n",
    "    return -cosSimLSTM/lstmOut.size()[1]\n",
    "        \n",
    "\n",
    "def train(epoch):\n",
    "    model.train()\n",
    "    trainLoss = 0\n",
    "\n",
    "    for batch_idx, data in enumerate(trainLoader):\n",
    "        #print(batch_idx)\n",
    "        data = data.float().to(device)\n",
    "        optimizer.zero_grad()\n",
    "        embedding, lstmOut, reconPrediction = model(data)\n",
    "        nextBatch = next(iter(trainLoader)).float().to(device)\n",
    "        embeddingNext, _, _ = model(nextBatch)\n",
    "        loss = loss_function(embedding, lstmOut, embeddingNext, model, trainLoader.dataset)\n",
    "        loss.backward()\n",
    "        trainLoss += loss.item()\n",
    "        optimizer.step()\n",
    "        if(batch_idx % log_interval == 0):\n",
    "            print('Train Epoch: {} [{}/{} ({:.0f}%)]\\tAccuracy: {:.6f}'.format(\n",
    "                epoch, batch_idx * len(data), len(trainLoader.dataset),\n",
    "                100. * batch_idx / len(trainLoader),\n",
    "                -loss.item() / len(data)))\n",
    "        if(batch_idx==10):\n",
    "            break\n",
    "    print('====> Epoch: {} Average accuracy: {:.4f}'.format(\n",
    "          epoch, -trainLoss / len(trainLoader.dataset)))\n",
    "\n",
    "def test(epoch):\n",
    "    model.eval()\n",
    "    testLoss = 0\n",
    "    with torch.no_grad():\n",
    "        for i, data in enumerate(testLoader):\n",
    "            data = data.float().to(device)\n",
    "            embedding, lstmOut, reconPrediction = model(data)\n",
    "            nextBatch = next(iter(testLoader)).float().to(device)\n",
    "            embeddingNext, _, _= model(nextBatch)\n",
    "            testLoss += loss_function(embedding, lstmOut, embeddingNext).item()\n",
    "            \n",
    "            if(i==10):\n",
    "                break\n",
    "    testLoss /= len(testLoader.dataset)\n",
    "\n",
    "    print('====> Test set accuracy: {:.4f}'.format(-testLoss))"
   ]
  },
  {
   "cell_type": "code",
   "execution_count": 18,
   "metadata": {},
   "outputs": [
    {
     "name": "stdout",
     "output_type": "stream",
     "text": [
      "\n"
     ]
    }
   ],
   "source": [
    "\"\"\"\n",
    "#LOAD MODEL\n",
    "pathToModel = 'model/YamahaPianoComp2002_1Epoch_LSTM.model'\n",
    "\n",
    "try:\n",
    "    #LOAD TRAINED MODEL INTO GPU\n",
    "    if(torch.cuda.is_available()):\n",
    "        model = torch.load(pathToModel)\n",
    "        \n",
    "    #LOAD MODEL TRAINED ON GPU INTO CPU\n",
    "    else:\n",
    "        model = torch.load(pathToModel, map_location=lambda storage, loc: storage)\n",
    "    print(\"\\n--------model restored--------\\n\")\n",
    "except:\n",
    "    print(\"\\n--------no saved model found--------\\n\")\n",
    "\"\"\"\n",
    "print('')"
   ]
  },
  {
   "cell_type": "code",
   "execution_count": 19,
   "metadata": {
    "scrolled": false
   },
   "outputs": [
    {
     "name": "stdout",
     "output_type": "stream",
     "text": [
      "torch.Size([999, 100])\n",
      "Train Epoch: 1 [0/4056 (0%)]\tAccuracy: -0.000416\n"
     ]
    },
    {
     "ename": "KeyboardInterrupt",
     "evalue": "",
     "output_type": "error",
     "traceback": [
      "\u001b[0;31m---------------------------------------------------------------------------\u001b[0m",
      "\u001b[0;31mKeyboardInterrupt\u001b[0m                         Traceback (most recent call last)",
      "\u001b[0;32m<ipython-input-19-887f29f54759>\u001b[0m in \u001b[0;36m<module>\u001b[0;34m()\u001b[0m\n\u001b[1;32m      1\u001b[0m \u001b[0;32mfor\u001b[0m \u001b[0mepoch\u001b[0m \u001b[0;32min\u001b[0m \u001b[0mrange\u001b[0m\u001b[0;34m(\u001b[0m\u001b[0;36m1\u001b[0m\u001b[0;34m,\u001b[0m \u001b[0mepochs\u001b[0m \u001b[0;34m+\u001b[0m \u001b[0;36m1\u001b[0m\u001b[0;34m)\u001b[0m\u001b[0;34m:\u001b[0m\u001b[0;34m\u001b[0m\u001b[0m\n\u001b[0;32m----> 2\u001b[0;31m     \u001b[0mtrain\u001b[0m\u001b[0;34m(\u001b[0m\u001b[0mepoch\u001b[0m\u001b[0;34m)\u001b[0m\u001b[0;34m\u001b[0m\u001b[0m\n\u001b[0m\u001b[1;32m      3\u001b[0m     \u001b[0mtest\u001b[0m\u001b[0;34m(\u001b[0m\u001b[0mepoch\u001b[0m\u001b[0;34m)\u001b[0m\u001b[0;34m\u001b[0m\u001b[0m\n",
      "\u001b[0;32m<ipython-input-17-d07fc0c9f5a9>\u001b[0m in \u001b[0;36mtrain\u001b[0;34m(epoch)\u001b[0m\n\u001b[1;32m    155\u001b[0m         \u001b[0mnextBatch\u001b[0m \u001b[0;34m=\u001b[0m \u001b[0mnext\u001b[0m\u001b[0;34m(\u001b[0m\u001b[0miter\u001b[0m\u001b[0;34m(\u001b[0m\u001b[0mtrainLoader\u001b[0m\u001b[0;34m)\u001b[0m\u001b[0;34m)\u001b[0m\u001b[0;34m.\u001b[0m\u001b[0mfloat\u001b[0m\u001b[0;34m(\u001b[0m\u001b[0;34m)\u001b[0m\u001b[0;34m.\u001b[0m\u001b[0mto\u001b[0m\u001b[0;34m(\u001b[0m\u001b[0mdevice\u001b[0m\u001b[0;34m)\u001b[0m\u001b[0;34m\u001b[0m\u001b[0m\n\u001b[1;32m    156\u001b[0m         \u001b[0membeddingNext\u001b[0m\u001b[0;34m,\u001b[0m \u001b[0m_\u001b[0m\u001b[0;34m,\u001b[0m \u001b[0m_\u001b[0m \u001b[0;34m=\u001b[0m \u001b[0mmodel\u001b[0m\u001b[0;34m(\u001b[0m\u001b[0mnextBatch\u001b[0m\u001b[0;34m)\u001b[0m\u001b[0;34m\u001b[0m\u001b[0m\n\u001b[0;32m--> 157\u001b[0;31m         \u001b[0mloss\u001b[0m \u001b[0;34m=\u001b[0m \u001b[0mloss_function\u001b[0m\u001b[0;34m(\u001b[0m\u001b[0membedding\u001b[0m\u001b[0;34m,\u001b[0m \u001b[0mlstmOut\u001b[0m\u001b[0;34m,\u001b[0m \u001b[0membeddingNext\u001b[0m\u001b[0;34m,\u001b[0m \u001b[0mmodel\u001b[0m\u001b[0;34m,\u001b[0m \u001b[0mtrainLoader\u001b[0m\u001b[0;34m.\u001b[0m\u001b[0mdataset\u001b[0m\u001b[0;34m)\u001b[0m\u001b[0;34m\u001b[0m\u001b[0m\n\u001b[0m\u001b[1;32m    158\u001b[0m         \u001b[0mloss\u001b[0m\u001b[0;34m.\u001b[0m\u001b[0mbackward\u001b[0m\u001b[0;34m(\u001b[0m\u001b[0;34m)\u001b[0m\u001b[0;34m\u001b[0m\u001b[0m\n\u001b[1;32m    159\u001b[0m         \u001b[0mtrainLoss\u001b[0m \u001b[0;34m+=\u001b[0m \u001b[0mloss\u001b[0m\u001b[0;34m.\u001b[0m\u001b[0mitem\u001b[0m\u001b[0;34m(\u001b[0m\u001b[0;34m)\u001b[0m\u001b[0;34m\u001b[0m\u001b[0m\n",
      "\u001b[0;32m<ipython-input-17-d07fc0c9f5a9>\u001b[0m in \u001b[0;36mloss_function\u001b[0;34m(embed, lstmOut, embedNext, model, dataset)\u001b[0m\n\u001b[1;32m    131\u001b[0m                 \u001b[0mrand\u001b[0m \u001b[0;34m=\u001b[0m \u001b[0mnp\u001b[0m\u001b[0;34m.\u001b[0m\u001b[0mrandom\u001b[0m\u001b[0;34m.\u001b[0m\u001b[0mrandint\u001b[0m\u001b[0;34m(\u001b[0m\u001b[0;36m0\u001b[0m\u001b[0;34m,\u001b[0m\u001b[0mlen\u001b[0m\u001b[0;34m(\u001b[0m\u001b[0mtrainLoader\u001b[0m\u001b[0;34m)\u001b[0m\u001b[0;34m-\u001b[0m\u001b[0;36m1\u001b[0m\u001b[0;34m)\u001b[0m\u001b[0;34m\u001b[0m\u001b[0m\n\u001b[1;32m    132\u001b[0m                 \u001b[0membedTemp\u001b[0m \u001b[0;34m=\u001b[0m \u001b[0mtrainLoader\u001b[0m\u001b[0;34m.\u001b[0m\u001b[0mdataset\u001b[0m\u001b[0;34m[\u001b[0m\u001b[0mrand\u001b[0m\u001b[0;34m:\u001b[0m\u001b[0mrand\u001b[0m\u001b[0;34m+\u001b[0m\u001b[0;36m1\u001b[0m\u001b[0;34m,\u001b[0m\u001b[0;34m:\u001b[0m\u001b[0;34m,\u001b[0m\u001b[0;34m:\u001b[0m\u001b[0;34m,\u001b[0m\u001b[0;34m:\u001b[0m\u001b[0;34m]\u001b[0m\u001b[0;34m\u001b[0m\u001b[0m\n\u001b[0;32m--> 133\u001b[0;31m                 \u001b[0membedding999\u001b[0m \u001b[0;34m=\u001b[0m \u001b[0mtorch\u001b[0m\u001b[0;34m.\u001b[0m\u001b[0mcat\u001b[0m\u001b[0;34m(\u001b[0m\u001b[0;34m(\u001b[0m\u001b[0membedding999\u001b[0m\u001b[0;34m,\u001b[0m\u001b[0membedTemp\u001b[0m\u001b[0;34m)\u001b[0m\u001b[0;34m,\u001b[0m\u001b[0mdim\u001b[0m\u001b[0;34m=\u001b[0m\u001b[0;36m0\u001b[0m\u001b[0;34m)\u001b[0m\u001b[0;34m\u001b[0m\u001b[0m\n\u001b[0m\u001b[1;32m    134\u001b[0m             \u001b[0membedding999\u001b[0m \u001b[0;34m=\u001b[0m \u001b[0membedding999\u001b[0m\u001b[0;34m.\u001b[0m\u001b[0mfloat\u001b[0m\u001b[0;34m(\u001b[0m\u001b[0;34m)\u001b[0m\u001b[0;34m.\u001b[0m\u001b[0mto\u001b[0m\u001b[0;34m(\u001b[0m\u001b[0mdevice\u001b[0m\u001b[0;34m)\u001b[0m\u001b[0;34m\u001b[0m\u001b[0m\n\u001b[1;32m    135\u001b[0m             \u001b[0membedding999\u001b[0m \u001b[0;34m=\u001b[0m \u001b[0mmodel\u001b[0m\u001b[0;34m(\u001b[0m\u001b[0membedding999\u001b[0m\u001b[0;34m,\u001b[0m\u001b[0membedding_only\u001b[0m\u001b[0;34m=\u001b[0m\u001b[0;32mTrue\u001b[0m\u001b[0;34m)\u001b[0m\u001b[0;34m\u001b[0m\u001b[0m\n",
      "\u001b[0;31mKeyboardInterrupt\u001b[0m: "
     ]
    }
   ],
   "source": [
    "for epoch in range(1, epochs + 1):\n",
    "    train(epoch)\n",
    "    test(epoch)"
   ]
  },
  {
   "cell_type": "code",
   "execution_count": null,
   "metadata": {},
   "outputs": [],
   "source": [
    "#torch.save(model,'/media/EXTHD/niciData/models/YamahaPianoComp2002_10Epochs_LSTM_TiedWeights.model')"
   ]
  },
  {
   "cell_type": "markdown",
   "metadata": {},
   "source": [
    "# Play Prediction by generating an 8th sequence after listening to 7"
   ]
  },
  {
   "cell_type": "code",
   "execution_count": null,
   "metadata": {},
   "outputs": [],
   "source": [
    "#np.set_printoptions(precision=2, suppress=True, threshold=np.inf)\n"
   ]
  },
  {
   "cell_type": "code",
   "execution_count": null,
   "metadata": {
    "scrolled": false
   },
   "outputs": [],
   "source": [
    "\"\"\"\n",
    "###PLAY WHOLE SONG IN BARS\n",
    "with torch.no_grad():\n",
    "    \n",
    "    sampleNp1 = getSlicedPianorollMatrixNp(\"/Volumes/EXT/DATASETS/WikifoniaServer/samples/The-Doors---Don't-you-love-her-Madly?.mid\")\n",
    "    sampleNp1 = deleteZeroMatrices(sampleNp1)\n",
    "    sample = np.expand_dims(sampleNp1[0,:,36:-32],axis=0)\n",
    "    print(sample.shape)\n",
    "    for i, sampleNp in enumerate(sampleNp1[1:7]):\n",
    "        print(sampleNp.shape)\n",
    "        if(np.any(sampleNp)):\n",
    "            sampleNp = sampleNp[:,36:-32]\n",
    "            sampleNp = np.expand_dims(sampleNp,axis=0)\n",
    "            sample = np.concatenate((sample,sampleNp),axis=0)\n",
    "    samplePlay = sample[0,:,:]\n",
    "    for s in sample:\n",
    "        samplePlay = np.concatenate((samplePlay,s),axis=0)\n",
    "    samplePlay = addCuttedOctaves(samplePlay)\n",
    "    print(samplePlay.shape)\n",
    "    sample = torch.from_numpy(sample).float().to(device)\n",
    "    sample = torch.unsqueeze(sample,1)\n",
    "    print(sample.size())\n",
    "    _,_, pred = model(sample)\n",
    "    #reconstruction = recon.squeeze(0).squeeze(0).cpu().numpy()\n",
    "    prediction = pred.squeeze(0).squeeze(0).cpu().numpy()\n",
    "\n",
    "    #print(sampleNp[:,:])\n",
    "    #print(prediction[:,:])\n",
    "    #print(np.sum(sampleNp.numpy(), axis=1))\n",
    "\n",
    "    #NORMALIZE PREDICTIONS\n",
    "    #reconstruction /= np.abs(np.max(reconstruction))\n",
    "    prediction /= np.abs(np.max(prediction))\n",
    "    #print(prediction)\n",
    "\n",
    "    #CHECK MIDI ACTIVATIONS IN PREDICTION TO INCLUDE RESTS\n",
    "    #reconstruction[reconstruction < 0.3] = 0\n",
    "    prediction[prediction < 0.75] = 0\n",
    "\n",
    "\n",
    "\n",
    "    ###MONOPHONIC OUTPUT MATRIX POLOYPHONIC POSSIBLE WITH ACTIVATION THRESHOLD###\n",
    "    #score = music21.converter.parse('WikifoniaServer/samples/The-Doors---Don\\'t-you-love-her-Madly?.mid')\n",
    "    #score.show()\n",
    "\n",
    "    samplePlay = debinarizeMidi(samplePlay, prediction=False)\n",
    "    samplePlay = addCuttedOctaves(samplePlay)\n",
    "    #reconstruction = debinarizeMidi(reconstruction, prediction=True)\n",
    "    #reconstruction = addCuttedOctaves(reconstruction)\n",
    "    prediction = debinarizeMidi(prediction, prediction=True)\n",
    "    prediction = addCuttedOctaves(prediction)\n",
    "\n",
    "    #print(np.argmax(samplePlay, axis=1))\n",
    "    #print('')\n",
    "    #print(np.argmax(prediction, axis=1))\n",
    "    print(\"INPUT\")\n",
    "    print(samplePlay.shape)\n",
    "    pianorollMatrixToTempMidi(samplePlay)\n",
    "    tempMidi(show=True,play=True)\n",
    "    #print(\"RECONSTRUCTION\")\n",
    "    #pianorollMatrixToTempMidi(reconstruction)        \n",
    "    #tempMidi(show=True,play=True)\n",
    "    print(\"PREDICTION\")\n",
    "    pianorollMatrixToTempMidi(prediction, prediction=True)        \n",
    "    tempMidi(show=True,play=True)\n",
    "    print(\"\\n\\n\")\n",
    "            \n",
    "\"\"\"\n",
    "print('')"
   ]
  },
  {
   "cell_type": "code",
   "execution_count": null,
   "metadata": {},
   "outputs": [],
   "source": []
  },
  {
   "cell_type": "code",
   "execution_count": null,
   "metadata": {},
   "outputs": [],
   "source": []
  }
 ],
 "metadata": {
  "kernelspec": {
   "display_name": "Python 3",
   "language": "python",
   "name": "python3"
  },
  "language_info": {
   "codemirror_mode": {
    "name": "ipython",
    "version": 3
   },
   "file_extension": ".py",
   "mimetype": "text/x-python",
   "name": "python",
   "nbconvert_exporter": "python",
   "pygments_lexer": "ipython3",
   "version": "3.6.5"
  }
 },
 "nbformat": 4,
 "nbformat_minor": 2
}
