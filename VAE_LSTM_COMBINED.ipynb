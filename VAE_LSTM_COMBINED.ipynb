{
 "cells": [
  {
   "cell_type": "code",
   "execution_count": 41,
   "metadata": {},
   "outputs": [],
   "source": [
    "# import numpy as np\n",
    "import glob\n",
    "import pypianoroll as ppr\n",
    "import time\n",
    "import music21\n",
    "import os\n",
    "import torch\n",
    "import torch.utils.data\n",
    "from torch import nn, optim\n",
    "from torch.nn import functional as F\n",
    "from utils.utilsPreprocessing import *\n",
    "#np.set_printoptions(threshold=np.inf)\n",
    "#torch.set_printoptions(threshold=50000)"
   ]
  },
  {
   "cell_type": "code",
   "execution_count": 42,
   "metadata": {},
   "outputs": [],
   "source": [
    "##########################################\n",
    "##########HYPERPARAMS#####################\n",
    "epochs = 5\n",
    "learning_rate = 1e-3\n",
    "batch_size = 128\n",
    "seq_length = 8\n",
    "log_interval = 1 #Log/show loss per batch\n",
    "##########################################\n",
    "##########################################"
   ]
  },
  {
   "cell_type": "markdown",
   "metadata": {},
   "source": [
    "# Load MIDI files from npz"
   ]
  },
  {
   "cell_type": "code",
   "execution_count": 43,
   "metadata": {},
   "outputs": [
    {
     "name": "stdout",
     "output_type": "stream",
     "text": [
      "Training set: (39782, 1, 96, 60)\n",
      "Test set: (9691, 1, 96, 60)\n"
     ]
    }
   ],
   "source": [
    "data = np.load('../YamahaPianoCompetition2002NoTranspose.npz')\n",
    "\n",
    "midiDatasetTrain = data['train']\n",
    "midiDatasetTest = data['test']\n",
    "\n",
    "data.close()\n",
    "\n",
    "\"\"\"\n",
    "print(\"Training set: ({}, {}, {}, {})\".format(midiDatasetTrain.size()[0],\n",
    "                                                midiDatasetTrain.size()[1],\n",
    "                                                midiDatasetTrain.size()[2],\n",
    "                                                midiDatasetTrain.size()[3]))\n",
    "print(\"Test set: ({}, {}, {}, {})\".format(midiDatasetTest.size()[0],\n",
    "                                                midiDatasetTest.size()[1],\n",
    "                                                midiDatasetTest.size()[2],\n",
    "                                                midiDatasetTest.size()[3]))\n",
    "\"\"\"\n",
    "\n",
    "print(\"Training set: {}\".format(midiDatasetTrain.shape))\n",
    "print(\"Test set: {}\".format(midiDatasetTest.shape))"
   ]
  },
  {
   "cell_type": "code",
   "execution_count": 44,
   "metadata": {
    "scrolled": false
   },
   "outputs": [],
   "source": [
    "fullPitch = 128\n",
    "_, _, length, reducedPitch = midiDatasetTrain.shape"
   ]
  },
  {
   "cell_type": "code",
   "execution_count": 45,
   "metadata": {},
   "outputs": [
    {
     "name": "stdout",
     "output_type": "stream",
     "text": [
      "\n",
      "--------GPU model restored--------\n",
      "\n"
     ]
    }
   ],
   "source": [
    "#MODEL FOR TRANSFER LEARNING\n",
    "from utils.VAE_Sigmoid import VAE\n",
    "from loadModel import loadModel\n",
    "device = torch.device(\"cuda\" if torch.cuda.is_available() else \"cpu\")\n",
    "\n",
    "\n",
    "###VARIATIONAL CONV AUTOENCODER############\n",
    "autoencoderModel = VAE()\n",
    "pathToModel = '../models/YamahaPC2002_VAE_Reconstruct_NoTW_12Epochs_SigmoidEmbed100.model'\n",
    "###########################################\n",
    "\n",
    "autoencoderModel = loadModel(autoencoderModel, pathToModel, dataParallelModel=False)"
   ]
  },
  {
   "cell_type": "code",
   "execution_count": null,
   "metadata": {},
   "outputs": [],
   "source": []
  },
  {
   "cell_type": "markdown",
   "metadata": {},
   "source": [
    "# CDVAE"
   ]
  },
  {
   "cell_type": "code",
   "execution_count": 46,
   "metadata": {},
   "outputs": [],
   "source": [
    "device = torch.device(\"cuda\" if torch.cuda.is_available() else \"cpu\")"
   ]
  },
  {
   "cell_type": "code",
   "execution_count": 47,
   "metadata": {},
   "outputs": [],
   "source": [
    "midiDatasetTrain = torch.from_numpy(midiDatasetTrain)\n",
    "trainLoader = torch.utils.data.DataLoader(midiDatasetTrain, batch_size=batch_size, shuffle=False, drop_last=True)\n",
    "\n",
    "midiDatasetTest = torch.from_numpy(midiDatasetTest)\n",
    "testLoader = torch.utils.data.DataLoader(midiDatasetTest, batch_size=batch_size, shuffle=False, drop_last=True)"
   ]
  },
  {
   "cell_type": "code",
   "execution_count": 48,
   "metadata": {
    "scrolled": false
   },
   "outputs": [],
   "source": [
    "class LSTM(nn.Module):\n",
    "    def __init__(self, batch_size=7, lstm_layers=2, hidden_size=400, seq_length=7):\n",
    "        super(LSTM, self).__init__()\n",
    "        \n",
    "        self.batch_size = batch_size\n",
    "        self.hidden_size = hidden_size\n",
    "        self.lstm_layers = lstm_layers\n",
    "        self.seq_length = seq_length\n",
    "        \n",
    "        ###LSTM###########\n",
    "        self.lstm = nn.LSTM(input_size=100, hidden_size=self.hidden_size,\n",
    "                            num_layers=self.lstm_layers, batch_first=True, dropout=0)\n",
    "        ##################\n",
    "        ###GRU############\n",
    "        self.gru = nn.GRU(input_size=100, hidden_size=self.hidden_size, \n",
    "                          num_layers=self.lstm_layers, batch_first=True)\n",
    "        ###LSTMCells######\n",
    "        self.lstmC1 = nn.LSTMCell(input_size=100, hidden_size=self.hidden_size, bias=True)\n",
    "        self.drop1 = nn.Dropout(p=0.2)\n",
    "        self.lstmC2 = nn.LSTMCell(input_size=400, hidden_size=self.hidden_size, bias=True)\n",
    "        self.drop2 = nn.Dropout(p=0.2)\n",
    "        self.lstmC3 = nn.LSTMCell(input_size=400, hidden_size=self.hidden_size, bias=True)\n",
    "        #################\n",
    "        \n",
    "        self.fc = nn.Linear(self.hidden_size,100)\n",
    "        self.reluFC = nn.ReLU()\n",
    "        self.sigmoid = nn.Sigmoid()\n",
    "        self.leakyReLU = nn.LeakyReLU(0.1)\n",
    "        self.tanh = nn.Tanh()\n",
    "    \n",
    "    def splitEmbedding(self, embed):     \n",
    "        if(embed.size()[0]>self.seq_length):\n",
    "            embedTemp = torch.chunk(embed, int(self.batch_size/self.seq_length),dim=0)\n",
    "            embed7s = embedTemp[0].unsqueeze(0)\n",
    "            for emb in embedTemp[1:]:\n",
    "                #print(\"inloop\");print(emb.unsqueeze(1).size())\n",
    "                embed7s = torch.cat((embed7s, emb.unsqueeze(0)),dim=0)\n",
    "                #print(\"afterconcat\");print(embed7s.size())\n",
    "        else:\n",
    "            embed7s = embed.unsqueeze(1)\n",
    "        return embed7s\n",
    "    \n",
    "    def hiddenInitLSTM(self,embed):\n",
    "        hiddenState = torch.zeros(self.lstm_layers,embed.size()[0], self.hidden_size).double().to(device)\n",
    "        cellState = torch.zeros(self.lstm_layers,embed.size()[0], self.hidden_size).double().to(device)\n",
    "        return hiddenState,cellState\n",
    "    \n",
    "    def hiddenInitGRU(self,embed):\n",
    "        hiddenState = torch.zeros(self.lstm_layers,embed.size()[0], self.hidden_size).to(device)    \n",
    "        return hiddenState\n",
    "    \n",
    "    \n",
    "    def hiddenInitLSTMCell(self):\n",
    "        hiddenState = torch.zeros(int(self.batch_size/self.seq_length),\n",
    "                                    self.hidden_size).double().to(device)\n",
    "        cellState = torch.zeros(int(self.batch_size/self.seq_length),\n",
    "                                    self.hidden_size).double().to(device)\n",
    "        hS2 = torch.zeros(int(self.batch_size/self.seq_length),\n",
    "                              self.hidden_size).double().to(device)\n",
    "        cS2 = torch.zeros(int(self.batch_size/self.seq_length),\n",
    "                              self.hidden_size).double().to(device)\n",
    "        \n",
    "        return (hiddenState, cellState), (hS2, cS2)\n",
    "\n",
    "    def forward(self, embed, future = 0):#, lenghts):\n",
    "        \n",
    "        #embed = self.splitEmbedding(embed)\n",
    "        #h_t, c_t = self.hiddenInitLSTM(embed)\n",
    "        \n",
    "        #h_t = self.hiddenInitGRU(embed)\n",
    "        \n",
    "        \n",
    "        #embed = nn.utils.rnn.pack_padded_sequence(embed, 7, batch_first=True)\n",
    "        (h_t, c_t),(h2_t, c2_t) = self.hiddenInitLSTMCell()\n",
    "        #print(h_t.size())\n",
    "        #print(h_t.size())\n",
    "        ###LSTMCells######\n",
    "        #print(embed.size())\n",
    "        embedChunks = torch.chunk(embed, self.seq_length,dim=0)\n",
    "        outputs = []\n",
    "        for i, input_t in enumerate(embedChunks):\n",
    "            h_t, c_t = self.lstmC1(input_t,(h_t, c_t))\n",
    "            h2_t, c2_t = self.lstmC2(h_t,(h2_t, c2_t))\n",
    "            output = self.fc(h2_t)\n",
    "            outputs += [output]\n",
    "        for i in range(future):\n",
    "            h_t, c_t = self.lstmC1(output,(h_t, c_t))\n",
    "            h2_t, c2_t = self.lstmC2(h_t, (h2_t, c2_t))\n",
    "            output = self.fc(h2_t)\n",
    "            outputs = [output]\n",
    "        outputs = torch.stack(outputs, 1)\n",
    "        #print(outputs.size())\n",
    "        embedChunks = torch.stack(embedChunks,1)\n",
    "        lstmOut = outputs\n",
    "        \"\"\"\n",
    "        ###LSTM###########\n",
    "        lstmOut, (h_t, c_t) = self.lstm(embed,(h_t, c_t))\n",
    "        #lstmOut, h_t = self.gru(embed, h_t)\n",
    "        ##################\n",
    "        #lstmOut = self.reluFC(lstmOut)\n",
    "        #lstmOut = self.sigmoid(lstmOut)\n",
    "        lstmOut = self.tanh(lstmOut)\n",
    "        #lstmOut = self.leakyReLU(lstmOut)\n",
    "        \n",
    "        lstmOut = self.fc(lstmOut)\n",
    "        \"\"\"\n",
    "        if(self.training):\n",
    "            print('embedding');print(embedChunks[0,6,:3])\n",
    "            print('lstmOut');print(lstmOut[0,7,:3])\n",
    "        \n",
    "        #print('compare lstm ht');print(lstmOut.size());print(h_t.size())\n",
    "        \n",
    "        if(embed.size()[0]==7):\n",
    "            embed = embed.squeeze(1)\n",
    "        return embedChunks, lstmOut\n",
    "\n",
    "    \n",
    "\n",
    "model = LSTM(batch_size=batch_size, seq_length=seq_length).double().to(device)\n",
    "\n",
    "#optimizer = optim.Adam(model.parameters(), lr=learning_rate, weight_decay=1e-1)\n",
    "optimizer = optim.RMSprop(model.parameters(),lr=learning_rate, weight_decay=0.9)\n",
    "\n",
    "def loss_function(embed, lstmOut):\n",
    "    \n",
    "    batch_sizeMin1 = embed.size()[0]-1\n",
    "    MSELoss = nn.MSELoss(reduction='elementwise_mean')\n",
    "    BCELoss = nn.BCEWithLogitsLoss(reduction='sum')\n",
    "    L1Loss = nn.L1Loss(reduction='sum')\n",
    "    cosLoss = nn.CosineSimilarity(dim=1)\n",
    "    #BATCHSIZE 7\n",
    "    if(embed.size()[0]==7):\n",
    "        print(\"loss\");print(embed.size());print(lstmOut.size())\n",
    "        lstmOut = torch.squeeze(lstmOut,1)\n",
    "        mseLSTM = MSELoss(lstmOut[1:,:],embed[:-1,:])\n",
    "        totalLoss =  mseLSTM / (embed.size()[1]*batch_sizeMin1)\n",
    "\n",
    "    #BATCHSIZE > 7\n",
    "    else:\n",
    "        #print(\"LOSS\");print(embed.size());print(lstmOut.size())\n",
    "        \n",
    "        mseLSTM = MSELoss(lstmOut[:,1:,:],embed[:,:-1,:])\n",
    "        totalLoss = mseLSTM# / (embed.size()[0]*(embed.size()[1]-1)*embed.size()[2])\n",
    "        \n",
    "        #L1LSTM = L1Loss(lstmOut[:,:-1,:],embed[:,1:,:])\n",
    "        #totalLoss = L1LSTM / (embed.size()[0]*(embed.size()[1]-1)*embed.size()[2])\n",
    "        \n",
    "        #cosSim = 0\n",
    "        #for lOut, emb in zip(lstmOut, embed):\n",
    "            #print(lOut[:-1,:].size());print(emb[1:,:].size())\n",
    "            #cosSim += torch.sum(cosLoss(lOut[:-1,:],emb[1:,:]))\n",
    "        #print(cosSim)\n",
    "        #totalLoss = (embed.size()[0]*(embed.size()[1]-1)) - cosSim\n",
    "        \n",
    "        #BCELSTM = 0\n",
    "        #for lOut, emb in zip(lstmOut,embed):\n",
    "        #    BCELSTM += BCELoss(lOut[:-1,:],emb[1:,:])\n",
    "        #totalLoss = BCELSTM / (embed.size()[0]*(embed.size()[1]-1))\n",
    "        \n",
    "        #CELoss = lstmLoss2(lstmOut[:,:-1,:],embed[:,1:,:])\n",
    "        \n",
    "        \n",
    "    return totalLoss\n",
    "\n",
    "def train(epoch):\n",
    "    model.train()\n",
    "    trainLoss = 0\n",
    "\n",
    "    for batch_idx, data in enumerate(trainLoader):\n",
    "        #print(batch_idx)\n",
    "        data = data.float().to(device)\n",
    "        optimizer.zero_grad()\n",
    "        embedding, logvar = autoencoderModel.encoder(data)\n",
    "        embedding = embedding.double()\n",
    "        #print(embedding.size())\n",
    "        embedding, lstmOut = model(embedding)\n",
    "        \n",
    "        loss = loss_function(embedding, lstmOut)\n",
    "        \n",
    "        ###LSTM###############\n",
    "        #reconPrediction = autoencoderModel.decoder(lstmOut[-1,:,:])\n",
    "        ######################\n",
    "        ###LSTMCell###########\n",
    "        #reconPrediction = autoencoderModel.decoder(lstmOut)\n",
    "        ######################\n",
    "\n",
    "        loss.backward()\n",
    "        trainLoss += loss.item()\n",
    "        optimizer.step()\n",
    "        if(batch_idx % log_interval == 0):\n",
    "            print('Train Epoch: {} [{}/{} ({:.0f}%)]\\tLoss: {:.6f}'.format(\n",
    "                epoch, batch_idx * len(data), len(trainLoader.dataset),\n",
    "                100. * batch_idx / len(trainLoader),\n",
    "                loss.item() / (len(data)-(model.batch_size/7))))\n",
    "        #if(batch_idx==1):\n",
    "        #   break\n",
    "    print('====> Epoch: {} Average Loss: {:.4f}'.format(\n",
    "          epoch, trainLoss / (len(trainLoader.dataset)-batch_idx*(model.batch_size/7))))\n",
    "\n",
    "def test(epoch):\n",
    "    model.eval()\n",
    "    testLoss = 0\n",
    "    with torch.no_grad():\n",
    "        for i, data in enumerate(testLoader):\n",
    "            data = data.float().to(device)\n",
    "            embedding, logvar = autoencoderModel.encoder(data)\n",
    "            embedding = embedding.double()\n",
    "            embedding, lstmOut = model(embedding)\n",
    "            loss = loss_function(embedding, lstmOut)\n",
    "            ###LSTM#########\n",
    "            #reconPrediction = autoencoderModel.decoder(lstmOut[:,-1,:])\n",
    "            ################\n",
    "            ###LSTMCell#####\n",
    "            #reconPrediction = autoencoderModel.decoder(lstmOut)\n",
    "            ################\n",
    "            testLoss += loss_function(embedding, lstmOut).item()\n",
    "            \n",
    "            #if(i==1):\n",
    "            #    break\n",
    "    testLoss /= (len(testLoader.dataset)-i*(model.batch_size/7))\n",
    "\n",
    "    print('====> Test set Loss: {:.4f}'.format(testLoss))"
   ]
  },
  {
   "cell_type": "code",
   "execution_count": 49,
   "metadata": {},
   "outputs": [
    {
     "name": "stdout",
     "output_type": "stream",
     "text": [
      "\n"
     ]
    }
   ],
   "source": [
    "\"\"\"\n",
    "#LOAD MODEL\n",
    "pathToModel = '../models/WikifoniaNoTranpose_10Epochs_LSTM_noTW_dropout50.model'\n",
    "\n",
    "try:\n",
    "    #LOAD TRAINED MODEL INTO GPU\n",
    "    if(torch.cuda.is_available()):\n",
    "        model = torch.load(pathToModel)\n",
    "        \n",
    "    #LOAD MODEL TRAINED ON GPU INTO CPU\n",
    "    else:\n",
    "        model = torch.load(pathToModel, map_location=lambda storage, loc: storage)\n",
    "    print(\"\\n--------model restored--------\\n\")\n",
    "except:\n",
    "    print(\"\\n--------no saved model found--------\\n\")\n",
    "\"\"\"\n",
    "print('')"
   ]
  },
  {
   "cell_type": "code",
   "execution_count": 50,
   "metadata": {
    "scrolled": false
   },
   "outputs": [
    {
     "name": "stdout",
     "output_type": "stream",
     "text": [
      "embedding\n",
      "tensor([9.9911e-01, 2.3375e-38, 1.0000e+00],\n",
      "       dtype=torch.float64, grad_fn=<SliceBackward>)\n",
      "lstmOut\n",
      "tensor([0.0653, 0.0964, 0.0072], dtype=torch.float64, grad_fn=<SliceBackward>)\n",
      "Train Epoch: 1 [0/39782 (0%)]\tLoss: 48.062585\n",
      "embedding\n",
      "tensor([1.7534e-13, 7.8725e-13, 1.0000e+00],\n",
      "       dtype=torch.float64, grad_fn=<SliceBackward>)\n",
      "lstmOut\n",
      "tensor([0.8222, 1.0421, 0.7088], dtype=torch.float64, grad_fn=<SliceBackward>)\n",
      "Train Epoch: 1 [128/39782 (0%)]\tLoss: 30.872145\n",
      "embedding\n",
      "tensor([3.5034e-07, 1.0000e+00, 9.9914e-01],\n",
      "       dtype=torch.float64, grad_fn=<SliceBackward>)\n",
      "lstmOut\n",
      "tensor([1.0266, 0.9857, 0.7820], dtype=torch.float64, grad_fn=<SliceBackward>)\n"
     ]
    },
    {
     "ename": "KeyboardInterrupt",
     "evalue": "",
     "output_type": "error",
     "traceback": [
      "\u001b[0;31m---------------------------------------------------------------------------\u001b[0m",
      "\u001b[0;31mKeyboardInterrupt\u001b[0m                         Traceback (most recent call last)",
      "\u001b[0;32m<ipython-input-50-887f29f54759>\u001b[0m in \u001b[0;36m<module>\u001b[0;34m()\u001b[0m\n\u001b[1;32m      1\u001b[0m \u001b[0;32mfor\u001b[0m \u001b[0mepoch\u001b[0m \u001b[0;32min\u001b[0m \u001b[0mrange\u001b[0m\u001b[0;34m(\u001b[0m\u001b[0;36m1\u001b[0m\u001b[0;34m,\u001b[0m \u001b[0mepochs\u001b[0m \u001b[0;34m+\u001b[0m \u001b[0;36m1\u001b[0m\u001b[0;34m)\u001b[0m\u001b[0;34m:\u001b[0m\u001b[0;34m\u001b[0m\u001b[0m\n\u001b[0;32m----> 2\u001b[0;31m     \u001b[0mtrain\u001b[0m\u001b[0;34m(\u001b[0m\u001b[0mepoch\u001b[0m\u001b[0;34m)\u001b[0m\u001b[0;34m\u001b[0m\u001b[0m\n\u001b[0m\u001b[1;32m      3\u001b[0m     \u001b[0mtest\u001b[0m\u001b[0;34m(\u001b[0m\u001b[0mepoch\u001b[0m\u001b[0;34m)\u001b[0m\u001b[0;34m\u001b[0m\u001b[0m\n",
      "\u001b[0;32m<ipython-input-48-cf971c3ace6e>\u001b[0m in \u001b[0;36mtrain\u001b[0;34m(epoch)\u001b[0m\n\u001b[1;32m    185\u001b[0m         \u001b[0;31m######################\u001b[0m\u001b[0;34m\u001b[0m\u001b[0;34m\u001b[0m\u001b[0m\n\u001b[1;32m    186\u001b[0m \u001b[0;34m\u001b[0m\u001b[0m\n\u001b[0;32m--> 187\u001b[0;31m         \u001b[0mloss\u001b[0m\u001b[0;34m.\u001b[0m\u001b[0mbackward\u001b[0m\u001b[0;34m(\u001b[0m\u001b[0;34m)\u001b[0m\u001b[0;34m\u001b[0m\u001b[0m\n\u001b[0m\u001b[1;32m    188\u001b[0m         \u001b[0mtrainLoss\u001b[0m \u001b[0;34m+=\u001b[0m \u001b[0mloss\u001b[0m\u001b[0;34m.\u001b[0m\u001b[0mitem\u001b[0m\u001b[0;34m(\u001b[0m\u001b[0;34m)\u001b[0m\u001b[0;34m\u001b[0m\u001b[0m\n\u001b[1;32m    189\u001b[0m         \u001b[0moptimizer\u001b[0m\u001b[0;34m.\u001b[0m\u001b[0mstep\u001b[0m\u001b[0;34m(\u001b[0m\u001b[0;34m)\u001b[0m\u001b[0;34m\u001b[0m\u001b[0m\n",
      "\u001b[0;32m~/Uni/Midi_Parser/.env3/lib/python3.6/site-packages/torch/tensor.py\u001b[0m in \u001b[0;36mbackward\u001b[0;34m(self, gradient, retain_graph, create_graph)\u001b[0m\n\u001b[1;32m     91\u001b[0m                 \u001b[0mproducts\u001b[0m\u001b[0;34m.\u001b[0m \u001b[0mDefaults\u001b[0m \u001b[0mto\u001b[0m\u001b[0;31m \u001b[0m\u001b[0;31m`\u001b[0m\u001b[0;31m`\u001b[0m\u001b[0;32mFalse\u001b[0m\u001b[0;31m`\u001b[0m\u001b[0;31m`\u001b[0m\u001b[0;34m.\u001b[0m\u001b[0;34m\u001b[0m\u001b[0m\n\u001b[1;32m     92\u001b[0m         \"\"\"\n\u001b[0;32m---> 93\u001b[0;31m         \u001b[0mtorch\u001b[0m\u001b[0;34m.\u001b[0m\u001b[0mautograd\u001b[0m\u001b[0;34m.\u001b[0m\u001b[0mbackward\u001b[0m\u001b[0;34m(\u001b[0m\u001b[0mself\u001b[0m\u001b[0;34m,\u001b[0m \u001b[0mgradient\u001b[0m\u001b[0;34m,\u001b[0m \u001b[0mretain_graph\u001b[0m\u001b[0;34m,\u001b[0m \u001b[0mcreate_graph\u001b[0m\u001b[0;34m)\u001b[0m\u001b[0;34m\u001b[0m\u001b[0m\n\u001b[0m\u001b[1;32m     94\u001b[0m \u001b[0;34m\u001b[0m\u001b[0m\n\u001b[1;32m     95\u001b[0m     \u001b[0;32mdef\u001b[0m \u001b[0mregister_hook\u001b[0m\u001b[0;34m(\u001b[0m\u001b[0mself\u001b[0m\u001b[0;34m,\u001b[0m \u001b[0mhook\u001b[0m\u001b[0;34m)\u001b[0m\u001b[0;34m:\u001b[0m\u001b[0;34m\u001b[0m\u001b[0m\n",
      "\u001b[0;32m~/Uni/Midi_Parser/.env3/lib/python3.6/site-packages/torch/autograd/__init__.py\u001b[0m in \u001b[0;36mbackward\u001b[0;34m(tensors, grad_tensors, retain_graph, create_graph, grad_variables)\u001b[0m\n\u001b[1;32m     88\u001b[0m     Variable._execution_engine.run_backward(\n\u001b[1;32m     89\u001b[0m         \u001b[0mtensors\u001b[0m\u001b[0;34m,\u001b[0m \u001b[0mgrad_tensors\u001b[0m\u001b[0;34m,\u001b[0m \u001b[0mretain_graph\u001b[0m\u001b[0;34m,\u001b[0m \u001b[0mcreate_graph\u001b[0m\u001b[0;34m,\u001b[0m\u001b[0;34m\u001b[0m\u001b[0m\n\u001b[0;32m---> 90\u001b[0;31m         allow_unreachable=True)  # allow_unreachable flag\n\u001b[0m\u001b[1;32m     91\u001b[0m \u001b[0;34m\u001b[0m\u001b[0m\n\u001b[1;32m     92\u001b[0m \u001b[0;34m\u001b[0m\u001b[0m\n",
      "\u001b[0;31mKeyboardInterrupt\u001b[0m: "
     ]
    }
   ],
   "source": [
    "for epoch in range(1, epochs + 1):\n",
    "    train(epoch)\n",
    "    test(epoch)"
   ]
  },
  {
   "cell_type": "markdown",
   "metadata": {},
   "source": [
    "# LOAD LSTM"
   ]
  },
  {
   "cell_type": "code",
   "execution_count": 51,
   "metadata": {
    "scrolled": true
   },
   "outputs": [
    {
     "name": "stdout",
     "output_type": "stream",
     "text": [
      "\n",
      "--------GPU model restored--------\n",
      "\n"
     ]
    }
   ],
   "source": [
    "pathToModel = '../models/LSTM_YamahaPianoComp2002_20Epochs_MSE3.model'\n",
    "###########################################\n",
    "\n",
    "model = loadModel(model, pathToModel, dataParallelModel=False)"
   ]
  },
  {
   "cell_type": "code",
   "execution_count": 52,
   "metadata": {},
   "outputs": [],
   "source": [
    "#torch.save(model,'/media/EXTHD/niciData/models/YamahaPianoComp2002_5Epochs_LSTM_noTW.model')"
   ]
  },
  {
   "cell_type": "code",
   "execution_count": null,
   "metadata": {},
   "outputs": [],
   "source": [
    "np.set_printoptions(precision=2, suppress=True, threshold=1)\n"
   ]
  },
  {
   "cell_type": "code",
   "execution_count": 53,
   "metadata": {
    "scrolled": false
   },
   "outputs": [
    {
     "name": "stdout",
     "output_type": "stream",
     "text": [
      "(1, 96, 60)\n",
      "(768, 128)\n",
      "torch.Size([8, 1, 96, 60])\n",
      "torch.Size([8, 100])\n",
      "torch.Size([8, 100])\n",
      "(96, 60)\n",
      "(8, 96, 60)\n",
      "[[0. 0. 0. ... 0. 0. 0.]\n",
      " [0. 0. 0. ... 0. 0. 0.]\n",
      " [0. 0. 0. ... 0. 0. 0.]\n",
      " ...\n",
      " [0. 0. 0. ... 0. 0. 0.]\n",
      " [0. 0. 0. ... 0. 0. 0.]\n",
      " [0. 0. 0. ... 0. 0. 0.]]\n",
      "INPUT\n",
      "(768, 128)\n"
     ]
    },
    {
     "data": {
      "image/png": "[encoded data removed]",
      "text/plain": [
       "<IPython.core.display.Image object>"
      ]
     },
     "metadata": {
      "image/png": {
       "height": 229,
       "width": 751
      }
     },
     "output_type": "display_data"
    },
    {
     "data": {
      "text/html": [
       "\n",
       "                <div id='midiPlayerDiv43238'></div>\n",
       "                <link rel=\"stylesheet\" href=\"//cuthbertLab.github.io/music21j/css/m21.css\"\n",
       "                    type=\"text/css\" />\n",
       "                <script>\n",
       "                require.config({\n",
       "                    paths: {'music21': '//cuthbertLab.github.io/music21j/src/music21'}\n",
       "                });\n",
       "                require(['music21'], function() {\n",
       "                               mp = new music21.miditools.MidiPlayer();\n",
       "                               mp.addPlayer('#midiPlayerDiv43238');\n",
       "                               mp.base64Load('data:audio/midi;base64,TVRoZAAAAAYAAQABBABNVHJrAAABHwD/AwVQaWFubwDAAADgAEAAwAAA/1EDB6EgAP9YBAQCGAidK5Alf4IAgCUAngCQJX+CAIAlAFWQJn+IAIAmAACQLX+IAIAtAACQKX+IAIApAIgAkCh/iACAKACQAJAlf4gAgCUAAJAmf4UrkCV/ggCAJQBVgCYAAJAuf4gAkC1/ggCALgCGAIAtAACQJ3+IAIAnAACQKH+IAIAoAJAAkCV/iACAJQAAkCZ/hSuQJX9VgCYAggCAJQAAkCh/hSuQJ39VgCgAgSuAJwBVkCl/iACAKQAAkCd/AJAsf4IAgCcAhgCALAAAkC1/iACALQAAkCd/iACAJwAAkCZ/hSuQJX+CAIAlAFWAJgAAkC1/hSuALQAAgCYAAJAmf4gA/y8A');\n",
       "                        });\n",
       "                </script>"
      ],
      "text/plain": [
       "<IPython.core.display.HTML object>"
      ]
     },
     "metadata": {},
     "output_type": "display_data"
    },
    {
     "name": "stdout",
     "output_type": "stream",
     "text": [
      "PREDICTION\n"
     ]
    },
    {
     "data": {
      "image/png": "[encoded data removed]",
      "text/plain": [
       "<IPython.core.display.Image object>"
      ]
     },
     "metadata": {
      "image/png": {
       "height": 70,
       "width": 356
      }
     },
     "output_type": "display_data"
    },
    {
     "data": {
      "text/html": [
       "\n",
       "                <div id='midiPlayerDiv43690'></div>\n",
       "                <link rel=\"stylesheet\" href=\"//cuthbertLab.github.io/music21j/css/m21.css\"\n",
       "                    type=\"text/css\" />\n",
       "                <script>\n",
       "                require.config({\n",
       "                    paths: {'music21': '//cuthbertLab.github.io/music21j/src/music21'}\n",
       "                });\n",
       "                require(['music21'], function() {\n",
       "                               mp = new music21.miditools.MidiPlayer();\n",
       "                               mp.addPlayer('#midiPlayerDiv43690');\n",
       "                               mp.base64Load('data:audio/midi;base64,TVRoZAAAAAYAAQABBABNVHJrAAAAOgD/AwVQaWFubwDAAADgAEAAwAAA/1EDB6EgAP9YBAQCGAiKVZAsf4crkCl/jACAKQBVgCwAiAD/LwA=');\n",
       "                        });\n",
       "                </script>"
      ],
      "text/plain": [
       "<IPython.core.display.HTML object>"
      ]
     },
     "metadata": {},
     "output_type": "display_data"
    },
    {
     "name": "stdout",
     "output_type": "stream",
     "text": [
      "\n",
      "\n",
      "\n",
      "\n"
     ]
    }
   ],
   "source": [
    "playSeq = 0\n",
    "model.batch_size=8\n",
    "pathToSampleSeq = \"../DougMcKenzieFiles/train/Alone Together.mid\"\n",
    "if(model.train()):\n",
    "    model.eval()\n",
    "if(autoencoderModel.train()):\n",
    "    autoencoderModel.eval()\n",
    "\n",
    "###PREDICT 8th SEQUENCE\n",
    "with torch.no_grad():\n",
    "    \n",
    "    sampleNp1 = getSlicedPianorollMatrixNp(pathToSampleSeq)\n",
    "    sampleNp1 = deleteZeroMatrices(sampleNp1)\n",
    "    sample = np.expand_dims(sampleNp1[0,:,36:-32],axis=0)\n",
    "    print(sample.shape)\n",
    "    for i, sampleNp in enumerate(sampleNp1[playSeq:playSeq+(seq_length-1)]):\n",
    "        #print(sampleNp.shape)\n",
    "        if(np.any(sampleNp)):\n",
    "            sampleNp = sampleNp[:,36:-32]\n",
    "            sampleNp = np.expand_dims(sampleNp,axis=0)\n",
    "            sample = np.concatenate((sample,sampleNp),axis=0)\n",
    "    samplePlay = sample[0,:,:]\n",
    "    for s in sample[1:]:\n",
    "        samplePlay = np.concatenate((samplePlay,s),axis=0)\n",
    "    samplePlay = addCuttedOctaves(samplePlay)\n",
    "    print(samplePlay.shape)\n",
    "    #####PREPARE SAMPLE\n",
    "    sample = torch.from_numpy(sample).float().to(device)\n",
    "    sample = torch.unsqueeze(sample,1)\n",
    "    print(sample.size())\n",
    "    \n",
    "    #####MODEL##############\n",
    "    embed,logvar = autoencoderModel.encoder(sample)\n",
    "    print(embed.size())\n",
    "    embed = embed.double()\n",
    "    #embed = model.splitEmbedding(embed)\n",
    "    embed, lstmOut = model(embed)\n",
    "    print(lstmOut[:,:,:].squeeze(0).size())\n",
    "    lstmOut = lstmOut.float()\n",
    "    pred = autoencoderModel.decoder(lstmOut[0,-1:,:])\n",
    "    #pred = autoencoderModel.decoder(lstmOut[:,:,:].squeeze(1))\n",
    "    ########################\n",
    "    \n",
    "    prediction = pred.squeeze(0).squeeze(0).cpu().numpy()\n",
    "    print(prediction.shape)\n",
    "    #predict = np.squeeze(prediction, axis=1)\n",
    "    print(predict.shape)\n",
    "    \n",
    "    #####PLAY WHOLE LSTM OUT#############\n",
    "    #prediction = predict[0,:,:]\n",
    "    #print(prediction.shape)\n",
    "    #for pred in predict[1:]:\n",
    "    #    prediction = np.concatenate((prediction, pred), axis =0)\n",
    "    #####################################\n",
    "    #####PLAY NEXT SEQUENCE##############\n",
    "    #prediction = predict[-1,:,:]\n",
    "    #print(prediction.shape)\n",
    "    #####################################\n",
    "    #NORMALIZE PREDICTIONS\n",
    "    #reconstruction /= np.abs(np.max(reconstruction))\n",
    "    prediction /= np.abs(np.max(prediction))\n",
    "    #print(prediction)\n",
    "\n",
    "    #CHECK MIDI ACTIVATIONS IN PREDICTION TO INCLUDE RESTS\n",
    "    #reconstruction[reconstruction < 0.3] = 0\n",
    "    prediction[prediction < 0.3] = 0\n",
    "    print(prediction)\n",
    "\n",
    "\n",
    "    ###MONOPHONIC OUTPUT MATRIX POLOYPHONIC POSSIBLE WITH ACTIVATION THRESHOLD###\n",
    "    #score = music21.converter.parse(\n",
    "    #'WikifoniaServer/samples/The-Doors---Don\\'t-you-love-her-Madly?.mid')\n",
    "    #score.show()\n",
    "\n",
    "    samplePlay = debinarizeMidi(samplePlay, prediction=False)\n",
    "    samplePlay = addCuttedOctaves(samplePlay)\n",
    "    #reconstruction = debinarizeMidi(reconstruction, prediction=True)\n",
    "    #reconstruction = addCuttedOctaves(reconstruction)\n",
    "    prediction = debinarizeMidi(prediction, prediction=True)\n",
    "    prediction = addCuttedOctaves(prediction)\n",
    "    print(\"INPUT\")\n",
    "    print(samplePlay.shape)\n",
    "    pianorollMatrixToTempMidi(samplePlay, show=True,showPlayer=True,autoplay=True)\n",
    "    #print(\"RECONSTRUCTION\")\n",
    "    #pianorollMatrixToTempMidi(reconstruction, show=True,\n",
    "    #                            showPlayer=True,autoplay=True, prediction=True)\n",
    "    print(\"PREDICTION\")\n",
    "    pianorollMatrixToTempMidi(prediction, prediction=True, \n",
    "                              show=True,showPlayer=True,autoplay=True)        \n",
    "    print(\"\\n\\n\")\n",
    "            \n",
    "\n",
    "print('')"
   ]
  },
  {
   "cell_type": "code",
   "execution_count": null,
   "metadata": {},
   "outputs": [],
   "source": []
  },
  {
   "cell_type": "code",
   "execution_count": null,
   "metadata": {},
   "outputs": [],
   "source": []
  },
  {
   "cell_type": "code",
   "execution_count": null,
   "metadata": {},
   "outputs": [],
   "source": []
  }
 ],
 "metadata": {
  "kernelspec": {
   "display_name": "Python 3",
   "language": "python",
   "name": "python3"
  },
  "language_info": {
   "codemirror_mode": {
    "name": "ipython",
    "version": 3
   },
   "file_extension": ".py",
   "mimetype": "text/x-python",
   "name": "python",
   "nbconvert_exporter": "python",
   "pygments_lexer": "ipython3",
   "version": "3.6.5"
  }
 },
 "nbformat": 4,
 "nbformat_minor": 2
}
