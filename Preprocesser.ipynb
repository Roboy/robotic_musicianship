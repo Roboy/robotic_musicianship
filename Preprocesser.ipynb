{
 "cells": [
  {
   "cell_type": "markdown",
   "metadata": {},
   "source": [
    "# Preprocesser of midi files\n",
    "This script parses midi files to numpy matrices and saves it as npz for faster preprocessing of autoencoder."
   ]
  },
  {
   "cell_type": "code",
   "execution_count": null,
   "metadata": {},
   "outputs": [],
   "source": [
    "import numpy as np\n",
    "import torch\n",
    "import glob\n",
    "import time\n",
    "from utils.utilsPreprocessing import *"
   ]
  },
  {
   "cell_type": "code",
   "execution_count": null,
   "metadata": {
    "scrolled": false
   },
   "outputs": [],
   "source": [
    "\"\"\"PREPROCESSING OF TRAINING DATA\"\"\"\n",
    "\n",
    "pathToFiles = \"/Volumes/EXT/DATASETS/YamahaPianoCompetition2002/\"\n",
    "\n",
    "print(\"PREPROCESS TRAINING DATA\")\n",
    "start_time = time.time()\n",
    "filesTrain = glob.glob(pathToFiles + \"train/*.mid\")\n",
    "\n",
    "\n",
    "midiDatasetTrain = []\n",
    "for i, f in enumerate(filesTrain[:5]):\n",
    "    #print(f)\n",
    "    tempSeqList = getSlicedPianorollMatrixList(f,binarize=True)\n",
    "    #print(tempSeqList)\n",
    "    for temp in tempSeqList:\n",
    "        #print(temp)\n",
    "        midiDatasetTrain.append(temp)\n",
    "    \n",
    "    if(i%10==0):\n",
    "        print(\"{}/{} # Sequences: {}\".format(i,len(filesTrain),len(midiDatasetTrain)))\n",
    "    elif(i+1==len(filesTrain)):\n",
    "        print(\"Done\")\n",
    "\n",
    "midiDatasetTrain = np.array(midiDatasetTrain)\n",
    "\n",
    "midiDatasetTrain = transposeNotesHigherLower(midiDatasetTrain)\n",
    "print('transpose1done')\n",
    "midiDatasetTrain = transposeNotesHigherLower(midiDatasetTrain)\n",
    "print(\"transpose2done\")\n",
    "midiDatasetTrain = cutOctaves(midiDatasetTrain)\n",
    "midiDatasetTrain = deleteZeroMatrices(midiDatasetTrain)\n",
    "\n",
    "###TRANPOSE TRAINING DATA###\n",
    "#midiDatasetTrain = transposeTracks(midiDatasetTrain)\n",
    "midiDatasetTrain = np.expand_dims(midiDatasetTrain,axis=1)\n",
    "\n",
    "\n",
    "print(\"This already took %i seconds\"%(time.time()-start_time))\n",
    "\n",
    "###PREPROCESSING OF TEST DATA###\n",
    "print(\"PREPROCESS TEST DATA\")\n",
    "filesTest = glob.glob(pathToFiles + \"test/*.mid\")\n",
    "midiDatasetTest = []\n",
    "for i, f in enumerate(filesTest[:1]):\n",
    "    #print(f)\n",
    "    tempSeqList = getSlicedPianorollMatrixList(f,binarize=True)\n",
    "    #print(tempSeqList)\n",
    "    for temp in tempSeqList:\n",
    "        #print(temp)\n",
    "        midiDatasetTest.append(temp)\n",
    "    if(i%10==0):\n",
    "        print(\"{}/{} # Sequences: {}\".format(i,len(filesTest),len(midiDatasetTest)))\n",
    "\n",
    "midiDatasetTest = np.array(midiDatasetTest)\n",
    "\n",
    "midiDatasetTest = transposeNotesHigherLower(midiDatasetTest)\n",
    "midiDatasetTest = cutOctaves(midiDatasetTest)\n",
    "midiDatasetTest = deleteZeroMatrices(midiDatasetTest)\n",
    "\n",
    "###TRANPOSE TRAINING DATA###\n",
    "#midiDatasetTest = transposeTracks(midiDatasetTest)\n",
    "midiDatasetTest = np.expand_dims(midiDatasetTest,axis=1)\n",
    "\n",
    "print(\"Size of training set: {}\".format(midiDatasetTrain.shape))\n",
    "print(\"Size of test set: {}\".format(midiDatasetTest.shape))\n",
    "print(\"This took %i seconds\"%(time.time()-start_time))\n"
   ]
  },
  {
   "cell_type": "code",
   "execution_count": null,
   "metadata": {},
   "outputs": [],
   "source": [
    "\"\"\"SAVE AS NPZ FILE\"\"\"\n",
    "np.savez('/Volumes/EXT/DATASETS/YamahaPianoCompetition2002TransposedBy60',train=midiDatasetTrain, test=midiDatasetTest)"
   ]
  },
  {
   "cell_type": "code",
   "execution_count": null,
   "metadata": {},
   "outputs": [],
   "source": []
  }
 ],
 "metadata": {
  "kernelspec": {
   "display_name": "Python 3",
   "language": "python",
   "name": "python3"
  },
  "language_info": {
   "codemirror_mode": {
    "name": "ipython",
    "version": 3
   },
   "file_extension": ".py",
   "mimetype": "text/x-python",
   "name": "python",
   "nbconvert_exporter": "python",
   "pygments_lexer": "ipython3",
   "version": "3.6.5"
  }
 },
 "nbformat": 4,
 "nbformat_minor": 2
}
