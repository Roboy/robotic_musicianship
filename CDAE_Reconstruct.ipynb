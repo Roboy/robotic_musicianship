{
 "cells": [
  {
   "cell_type": "code",
   "execution_count": null,
   "metadata": {},
   "outputs": [],
   "source": [
    "import numpy as np\n",
    "import glob\n",
    "import pypianoroll as ppr\n",
    "import time\n",
    "import music21\n",
    "import os\n",
    "import torch\n",
    "import torch.utils.data\n",
    "from torch import nn, optim\n",
    "from torch.nn import functional as F\n",
    "from utils.utilsPreprocessing import *"
   ]
  },
  {
   "cell_type": "code",
   "execution_count": null,
   "metadata": {
    "scrolled": false
   },
   "outputs": [],
   "source": [
    "fullPitch = 128\n",
    "_, _, length, reducedPitch = (0,0,96,60)"
   ]
  },
  {
   "cell_type": "markdown",
   "metadata": {},
   "source": [
    "# CDVAE"
   ]
  },
  {
   "cell_type": "code",
   "execution_count": null,
   "metadata": {
    "scrolled": false
   },
   "outputs": [],
   "source": [
    "from utils.CDVAE import CDVAE\n",
    "device = torch.device(\"cuda\" if torch.cuda.is_available() else \"cpu\")\n",
    "\n",
    "model = CDVAE().to(device)\n",
    "#print(model)"
   ]
  },
  {
   "cell_type": "code",
   "execution_count": null,
   "metadata": {},
   "outputs": [],
   "source": [
    "#LOAD MODEL\n",
    "pathToModel = 'model/YamahaPianoCompetition2002Transposedby60_10Epochs.model'\n",
    "\n",
    "try:\n",
    "    #LOAD TRAINED MODEL INTO GPU\n",
    "    if(torch.cuda.is_available()):\n",
    "        model = torch.load(pathToModel)\n",
    "        \n",
    "    #LOAD MODEL TRAINED ON GPU INTO CPU\n",
    "    else:\n",
    "        model = torch.load(pathToModel, map_location=lambda storage, loc: storage)\n",
    "    print(\"\\n--------model restored--------\\n\")\n",
    "except:\n",
    "    print(\"\\n--------no saved model found--------\\n\")\n",
    "\n",
    "print('')"
   ]
  },
  {
   "cell_type": "code",
   "execution_count": null,
   "metadata": {},
   "outputs": [],
   "source": [
    "np.set_printoptions(precision=2, suppress=True, threshold=np.inf)\n"
   ]
  },
  {
   "cell_type": "code",
   "execution_count": null,
   "metadata": {
    "scrolled": false
   },
   "outputs": [],
   "source": [
    "\n",
    "###PLAY WHOLE SONG IN BARS\n",
    "with torch.no_grad():\n",
    "    \n",
    "    sampleNp1 = getSlicedPianorollMatrixNp(\"/Users/nw/Uni/DougMcKenzieFiles_noDrums/test/howdsolo.mid\")\n",
    "    for sampleNp in sampleNp1:\n",
    "        \n",
    "        if(np.any(sampleNp)):\n",
    "            #sampleNp = sampleNp[12,:,:]\n",
    "            #print(sampleNp)\n",
    "            sampleNp = sampleNp[:,36:-32]\n",
    "            sample = torch.from_numpy(sampleNp).float()\n",
    "            \n",
    "            embed = model.encoder(sample.reshape(1,1,length,reducedPitch).to(device))\n",
    "            \n",
    "            noise = torch.randn_like(embed)\n",
    "            ###HERE YOU CAN ADD THE GAUSSIAN NOISE TO THE RECONSTUCTION\n",
    "            #embed += noise\n",
    "            ###TENDS TO ADD RANDOM NOTES WHICH SOUNDS POOR\n",
    "            recon = model.decoder(embed)\n",
    "            pred = model.decoder(noise)\n",
    "            \n",
    "            reconstruction = recon.squeeze(0).squeeze(0).cpu().numpy()\n",
    "            prediction = pred.squeeze(0).squeeze(0).cpu().numpy()\n",
    "            \n",
    "            #NORMALIZE RECONSTRUCTION/PREDICTIONS\n",
    "            reconstruction /= np.abs(np.max(reconstruction))\n",
    "            prediction /= np.abs(np.max(prediction))\n",
    "            \n",
    "            \n",
    "            #CHECK MIDI ACTIVATIONS IN PREDICTION TO INCLUDE RESTS\n",
    "            reconstruction[reconstruction < 0.3] = 0\n",
    "            prediction[prediction < 0.8] = 0\n",
    "\n",
    "            ###MONOPHONIC OUTPUT MATRIX POLOYPHONIC POSSIBLE WITH ACTIVATION THRESHOLD###\n",
    "            #score = music21.converter.parse('WikifoniaServer/samples/The-Doors---Don\\'t-you-love-her-Madly?.mid')\n",
    "            #score.show()\n",
    "\n",
    "            samplePlay = debinarizeMidi(sampleNp, prediction=False)\n",
    "            samplePlay = addCuttedOctaves(samplePlay)\n",
    "            reconstruction = debinarizeMidi(reconstruction, prediction=True)\n",
    "            reconstruction = addCuttedOctaves(reconstruction)\n",
    "            prediction = debinarizeMidi(prediction, prediction=True)\n",
    "            prediction = addCuttedOctaves(prediction)\n",
    "\n",
    "            print(\"INPUT\")\n",
    "            pianorollMatrixToTempMidi(samplePlay,show=True,showPlayer=True,autoplay=True)\n",
    "            print(\"RECONSTRUCTION\")\n",
    "            pianorollMatrixToTempMidi(reconstruction, show=True,\n",
    "                                      showPlayer=True,autoplay=True, prediction=True)        \n",
    "            print(\"RANDOM NOISE WITH SAME MEAN and VARIANCE\")\n",
    "            pianorollMatrixToTempMidi(prediction, show=True,showPlayer=True,autoplay=True, prediction=True)\n",
    "            print(\"\\n\\n\")\n",
    "            \n",
    "\n",
    "print('')"
   ]
  },
  {
   "cell_type": "code",
   "execution_count": null,
   "metadata": {},
   "outputs": [],
   "source": []
  },
  {
   "cell_type": "code",
   "execution_count": null,
   "metadata": {},
   "outputs": [],
   "source": []
  },
  {
   "cell_type": "code",
   "execution_count": null,
   "metadata": {},
   "outputs": [],
   "source": []
  }
 ],
 "metadata": {
  "kernelspec": {
   "display_name": "Python 3",
   "language": "python",
   "name": "python3"
  },
  "language_info": {
   "codemirror_mode": {
    "name": "ipython",
    "version": 3
   },
   "file_extension": ".py",
   "mimetype": "text/x-python",
   "name": "python",
   "nbconvert_exporter": "python",
   "pygments_lexer": "ipython3",
   "version": "3.6.5"
  }
 },
 "nbformat": 4,
 "nbformat_minor": 2
}
