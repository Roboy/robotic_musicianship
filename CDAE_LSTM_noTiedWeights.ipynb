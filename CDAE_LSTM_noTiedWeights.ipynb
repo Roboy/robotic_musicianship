{
 "cells": [
  {
   "cell_type": "code",
   "execution_count": 1,
   "metadata": {},
   "outputs": [],
   "source": [
    "# import numpy as np\n",
    "import glob\n",
    "import pypianoroll as ppr\n",
    "import time\n",
    "import music21\n",
    "import os\n",
    "import torch\n",
    "import torch.utils.data\n",
    "from torch import nn, optim\n",
    "from torch.nn import functional as F\n",
    "from utils.utilsPreprocessing import *\n",
    "#np.set_printoptions(threshold=np.inf)\n",
    "#torch.set_printoptions(threshold=50000)"
   ]
  },
  {
   "cell_type": "code",
   "execution_count": 2,
   "metadata": {},
   "outputs": [],
   "source": [
    "##################################\n",
    "#HYPERPARAMS\n",
    "##################################\n",
    "epochs = 1\n",
    "learning_rate = 1e-3\n",
    "batch_size= 98\n",
    "log_interval = 1000  #Log/show loss per batch"
   ]
  },
  {
   "cell_type": "markdown",
   "metadata": {},
   "source": [
    "# Load MIDI files from npz"
   ]
  },
  {
   "cell_type": "code",
   "execution_count": 3,
   "metadata": {},
   "outputs": [
    {
     "name": "stdout",
     "output_type": "stream",
     "text": [
      "Training set: (4056, 1, 96, 60)\n",
      "Test set: (1034, 1, 96, 60)\n"
     ]
    }
   ],
   "source": [
    "data = np.load('/Volumes/EXT/DATASETS/WikifoniaPartlyNoTranspose.npz')\n",
    "\n",
    "midiDatasetTrain = data['train']\n",
    "midiDatasetTest = data['test']\n",
    "\n",
    "data.close()\n",
    "\n",
    "\"\"\"\n",
    "print(\"Training set: ({}, {}, {}, {})\".format(midiDatasetTrain.size()[0],\n",
    "                                                midiDatasetTrain.size()[1],\n",
    "                                                midiDatasetTrain.size()[2],\n",
    "                                                midiDatasetTrain.size()[3]))\n",
    "print(\"Test set: ({}, {}, {}, {})\".format(midiDatasetTest.size()[0],\n",
    "                                                midiDatasetTest.size()[1],\n",
    "                                                midiDatasetTest.size()[2],\n",
    "                                                midiDatasetTest.size()[3]))\n",
    "\"\"\"\n",
    "\n",
    "print(\"Training set: {}\".format(midiDatasetTrain.shape))\n",
    "print(\"Test set: {}\".format(midiDatasetTest.shape))"
   ]
  },
  {
   "cell_type": "code",
   "execution_count": 4,
   "metadata": {
    "scrolled": false
   },
   "outputs": [],
   "source": [
    "fullPitch = 128\n",
    "_, _, length, reducedPitch = midiDatasetTrain.shape"
   ]
  },
  {
   "cell_type": "markdown",
   "metadata": {},
   "source": [
    "# CDVAE"
   ]
  },
  {
   "cell_type": "code",
   "execution_count": 5,
   "metadata": {},
   "outputs": [],
   "source": [
    "device = torch.device(\"cuda\" if torch.cuda.is_available() else \"cpu\")"
   ]
  },
  {
   "cell_type": "code",
   "execution_count": 6,
   "metadata": {},
   "outputs": [],
   "source": [
    "midiDatasetTrain = torch.from_numpy(midiDatasetTrain)\n",
    "trainLoader = torch.utils.data.DataLoader(midiDatasetTrain, batch_size=batch_size, shuffle=False, drop_last=True)\n",
    "\n",
    "midiDatasetTest = torch.from_numpy(midiDatasetTest)\n",
    "testLoader = torch.utils.data.DataLoader(midiDatasetTest, batch_size=batch_size, shuffle=False, drop_last=True)"
   ]
  },
  {
   "cell_type": "code",
   "execution_count": 25,
   "metadata": {
    "scrolled": false
   },
   "outputs": [
    {
     "name": "stdout",
     "output_type": "stream",
     "text": [
      "Parameter containing:\n",
      "tensor([[[[-0.0720, -0.0866,  0.1052, -0.0976, -0.0523],\n",
      "          [ 0.1003, -0.0650, -0.0859,  0.0602, -0.0944],\n",
      "          [-0.0327,  0.1035, -0.0756, -0.1069,  0.0066],\n",
      "          ...,\n",
      "          [ 0.0764,  0.0114,  0.1064, -0.0287, -0.1115],\n",
      "          [ 0.0790,  0.0888,  0.0205,  0.0475,  0.0895],\n",
      "          [-0.1062,  0.0056,  0.0610, -0.0827,  0.0713]]],\n",
      "\n",
      "\n",
      "        [[[-0.0821,  0.0549,  0.0359,  0.0178, -0.0426],\n",
      "          [-0.0368, -0.0357,  0.0277,  0.0891,  0.0756],\n",
      "          [ 0.0970, -0.1073, -0.0757,  0.0799, -0.1013],\n",
      "          ...,\n",
      "          [-0.1002,  0.0292,  0.0789,  0.0864,  0.0938],\n",
      "          [-0.0614, -0.0416, -0.0766,  0.0564,  0.0391],\n",
      "          [ 0.0479, -0.0400,  0.0428,  0.0479,  0.0987]]],\n",
      "\n",
      "\n",
      "        [[[ 0.0804, -0.1014, -0.0399, -0.1044, -0.0009],\n",
      "          [-0.0991,  0.0236,  0.0557,  0.0224, -0.0388],\n",
      "          [-0.0768, -0.1103,  0.0897,  0.1043,  0.0987],\n",
      "          ...,\n",
      "          [ 0.0913,  0.0902,  0.0091,  0.0726, -0.0130],\n",
      "          [-0.0911, -0.0600,  0.0252,  0.0686, -0.0795],\n",
      "          [-0.0758, -0.0665,  0.0631, -0.0207, -0.0124]]],\n",
      "\n",
      "\n",
      "        ...,\n",
      "\n",
      "\n",
      "        [[[ 0.0746,  0.0507, -0.0771,  0.0957,  0.0203],\n",
      "          [-0.1116, -0.0499, -0.1008,  0.0578, -0.0110],\n",
      "          [ 0.0922, -0.0165,  0.0404, -0.0987,  0.0857],\n",
      "          ...,\n",
      "          [-0.0964,  0.1044, -0.0307,  0.0757, -0.1067],\n",
      "          [ 0.0594,  0.1053,  0.0721, -0.1019, -0.0080],\n",
      "          [-0.0614,  0.0249,  0.0854,  0.0556, -0.0290]]],\n",
      "\n",
      "\n",
      "        [[[-0.0902,  0.0942,  0.0974, -0.0624, -0.1107],\n",
      "          [-0.1095,  0.0594, -0.0132, -0.0566, -0.1014],\n",
      "          [ 0.0285, -0.0080,  0.0159,  0.0792,  0.0055],\n",
      "          ...,\n",
      "          [-0.0459, -0.0510, -0.0972, -0.0553, -0.0419],\n",
      "          [ 0.0879, -0.0470,  0.1087, -0.1011, -0.0295],\n",
      "          [ 0.1028,  0.0337, -0.0021,  0.0140, -0.0468]]],\n",
      "\n",
      "\n",
      "        [[[-0.0498,  0.0230, -0.1056,  0.0255,  0.0448],\n",
      "          [ 0.0937,  0.0278,  0.0236, -0.0131, -0.0482],\n",
      "          [-0.0062, -0.0273,  0.0939, -0.0462,  0.0605],\n",
      "          ...,\n",
      "          [-0.0200,  0.0972,  0.0915, -0.0006, -0.0793],\n",
      "          [ 0.0989,  0.0038, -0.0059,  0.1010,  0.1007],\n",
      "          [ 0.0358, -0.0725,  0.0812,  0.0104, -0.0305]]]],\n",
      "       requires_grad=True)\n"
     ]
    }
   ],
   "source": [
    "class CDVAE(nn.Module):\n",
    "    def __init__(self, batch_size=7, tie_weights=True):\n",
    "        super(CDVAE, self).__init__()\n",
    "        \n",
    "        self.batch_size = batch_size\n",
    "        \n",
    "        ###ENCODER###\n",
    "        self.encode1 = nn.Sequential(\n",
    "            nn.Conv2d(1,100,(16,5),stride=(16,5),padding=0),\n",
    "            nn.BatchNorm2d(100),\n",
    "            nn.ELU(),\n",
    "            nn.Conv2d(100,200,(2,1),stride=(2,1),padding=0),\n",
    "            nn.BatchNorm2d(200),\n",
    "            nn.ELU(),\n",
    "            nn.Conv2d(200,400,(2,2),stride=(1,2),padding=0),\n",
    "            nn.BatchNorm2d(400),\n",
    "            nn.ELU(),\n",
    "            nn.Conv2d(400,800,(2,2),stride=(2,2),padding=0),\n",
    "            nn.BatchNorm2d(800),\n",
    "            nn.ELU()\n",
    "        )\n",
    "            \n",
    "        self.encode2 = nn.Sequential(\n",
    "            nn.Linear(2400,800),\n",
    "            nn.BatchNorm1d(800),\n",
    "            nn.ELU(),\n",
    "            nn.Linear(800,400),\n",
    "            nn.BatchNorm1d(400),\n",
    "            nn.ELU(),\n",
    "            nn.Linear(400,100),\n",
    "            nn.BatchNorm1d(100),\n",
    "            nn.ELU()\n",
    "        )\n",
    "\n",
    "        ###DECODER###\n",
    "        self.decode1 = nn.Sequential(\n",
    "            nn.Linear(100,400),\n",
    "            nn.BatchNorm1d(400),\n",
    "            nn.ELU(),\n",
    "            nn.Linear(400,800),\n",
    "            nn.BatchNorm1d(800),\n",
    "            nn.ELU(),\n",
    "            nn.Linear(800,2400),\n",
    "            nn.BatchNorm1d(2400),\n",
    "            nn.ELU()\n",
    "        )\n",
    "        self.decode2 = nn.Sequential(\n",
    "            nn.ConvTranspose2d(800,400,(2,2),stride=(2,2),padding=0),\n",
    "            nn.BatchNorm2d(400),\n",
    "            nn.ELU(),\n",
    "            nn.ConvTranspose2d(400,200,(2,2),stride=(1,2),padding=0),\n",
    "            nn.BatchNorm2d(200),\n",
    "            nn.ELU(),\n",
    "            nn.ConvTranspose2d(200,100,(2,1),stride=(2,1),padding=0),\n",
    "            nn.BatchNorm2d(100),\n",
    "            nn.ELU(),\n",
    "            nn.ConvTranspose2d(100,1,(16,5),stride=(16,5),padding=0),\n",
    "            nn.BatchNorm2d(1),\n",
    "            nn.ELU()\n",
    "        )\n",
    "        \n",
    "        ###LSTM###\n",
    "        self.lstm = nn.LSTM(input_size=100, hidden_size=400,\n",
    "                            num_layers=3, batch_first=True, dropout=0.3)\n",
    "        self.eluLSTM = nn.ELU()\n",
    "        self.fc = nn.Linear(400,100)\n",
    "        self.eluFC = nn.ELU()\n",
    "    \n",
    "    def encoder(self, x):\n",
    "        #print(\"ENOCDER\")\n",
    "        hEnc = self.encode1(x)\n",
    "        #print(hEnc.size())\n",
    "        hEnc = torch.squeeze(hEnc,3).view(-1,800*3)\n",
    "        #print(hEnc.size())\n",
    "        hEnc = self.encode2(hEnc)\n",
    "        return hEnc\n",
    "\n",
    "    def decoder(self, z):\n",
    "        #print(\"DECODER\")\n",
    "        #print(z.size())\n",
    "        hDec = self.decode1(z)\n",
    "        hDec = hDec.view(hDec.size()[0],800,-1).unsqueeze(2)\n",
    "        hDec = self.decode2(hDec)\n",
    "        return hDec\n",
    "\n",
    "\n",
    "    def forward(self, x):\n",
    "        embed = self.encoder(x)\n",
    "        \n",
    "        ####MOVE TO HIDDEN_INIT\n",
    "        h_t = torch.zeros(3,int(embed.size()[0]/7),400).to(device)\n",
    "        c_t = torch.zeros(3,int(embed.size()[0]/7),400).to(device)        \n",
    "        ###HIDDEN INIT END\n",
    "        \n",
    "        #IF FOR TESTING UNKNOWN SEQUENCES\n",
    "        if(embed.size()[0]>7):\n",
    "            embedTemp = torch.chunk(embed, int(self.batch_size/7),dim=0)\n",
    "            embed7s = embedTemp[0].unsqueeze(0)\n",
    "            for emb in embedTemp[1:]:\n",
    "                #print(\"inloop\");print(emb.unsqueeze(1).size())\n",
    "                embed7s = torch.cat((embed7s, emb.unsqueeze(0)),dim=0)\n",
    "                #print(\"afterconcat\");print(embed7s.size())\n",
    "        else:\n",
    "            embed7s = embed.unsqueeze(0)\n",
    "            \n",
    "        lstmOut, (h_t, c_t) = self.lstm(embed7s,(h_t, c_t))\n",
    "        lstmOut = self.eluLSTM(lstmOut)\n",
    "        lstmOut = self.fc(lstmOut)\n",
    "        lstmOut = self.eluFC(lstmOut)\n",
    "        \n",
    "        return embed, lstmOut, self.decoder(lstmOut[:,-1,:])\n",
    "\n",
    "    \n",
    "\n",
    "model = CDVAE(batch_size=batch_size)\n",
    "#if(torch.cuda.device_count() > 1):\n",
    "#    print(\"Let's use {} GPUs!\".format(torch.cuda.device_count()))\n",
    "#    model = nn.DataParallel(model)\n",
    "\n",
    "print(model.encode1[0].weight)\n",
    "\n",
    "model = model.to(device)\n",
    "#optimizer = optim.Adam(model.parameters(), lr=learning_rate)\n",
    "optimizer = optim.RMSprop(model.parameters(),lr=learning_rate, weight_decay=1e-2)\n",
    "\n",
    "def loss_function(embed, lstmOut, embedNext):\n",
    "    \n",
    "    cosLSTM = nn.CosineSimilarity(dim=0, eps=1e-8)\n",
    "    \n",
    "    cosSimLSTM = 0\n",
    "    #BATCHSIZE 7\n",
    "    ###WRONG SINCE LOSS CHANGED TO COMPARE EVERY\n",
    "    ###PREDICTED SEQUENCE WITH THE NEXT\n",
    "    if(embed.size()[0]==7):\n",
    "        #print(\"batchsize = 7 ?\")\n",
    "        cosSimLSTM = cosLSTM(lstmOut.squeeze(1)[-1], embedNext[0])\n",
    "     \n",
    "    #BATCHSIZE > 7\n",
    "    else:\n",
    "        k=1\n",
    "        for batchOut in lstmOut:\n",
    "            for out in batchOut:\n",
    "                #print(k)\n",
    "                cosSimLSTM += cosLSTM(out,embed[k])\n",
    "                k+=1\n",
    "                if(k==embed.size()[0]-1):\n",
    "                    break\n",
    "                    \n",
    "        cosSimLSTM += cosLSTM(lstmOut[-1,-1,:],embedNext[0])\n",
    "\n",
    "    return -cosSimLSTM\n",
    "        \n",
    "\n",
    "def train(epoch):\n",
    "    model.train()\n",
    "    trainLoss = 0\n",
    "\n",
    "    for batch_idx, data in enumerate(trainLoader):\n",
    "        #print(batch_idx)\n",
    "        data = data.float().to(device)\n",
    "        optimizer.zero_grad()\n",
    "        embedding, lstmOut, reconPrediction = model(data)\n",
    "        nextBatch = next(iter(trainLoader)).float().to(device)\n",
    "        with torch.no_grad():\n",
    "            embeddingNext, _, _ = model(nextBatch)\n",
    "        #print(nextBatch.size())\n",
    "        loss = loss_function(embedding, lstmOut, embeddingNext)\n",
    "        loss.backward()\n",
    "        trainLoss += loss.item()\n",
    "        optimizer.step()\n",
    "        if(batch_idx % log_interval == 0):\n",
    "            print('Train Epoch: {} [{}/{} ({:.0f}%)]\\tAccuracy: {:.6f}'.format(\n",
    "                epoch, batch_idx * len(data), len(trainLoader.dataset),\n",
    "                100. * batch_idx / len(trainLoader),\n",
    "                -loss.item() / len(data)))\n",
    "        #if(batch_idx==1):\n",
    "        #   break\n",
    "    print('====> Epoch: {} Average accuracy: {:.4f}'.format(\n",
    "          epoch, -trainLoss / len(trainLoader.dataset)))\n",
    "\n",
    "def test(epoch):\n",
    "    model.eval()\n",
    "    testLoss = 0\n",
    "    with torch.no_grad():\n",
    "        for i, data in enumerate(testLoader):\n",
    "            data = data.float().to(device)\n",
    "            embedding, lstmOut, reconPrediction = model(data)\n",
    "            nextBatch = next(iter(testLoader)).float().to(device)\n",
    "            embeddingNext, _, _= model(nextBatch)\n",
    "            testLoss += loss_function(embedding, lstmOut, embeddingNext).item()\n",
    "            \n",
    "            #if(i==1):\n",
    "            #    break\n",
    "    testLoss /= len(testLoader.dataset)\n",
    "\n",
    "    print('====> Test set accuracy: {:.4f}'.format(-testLoss))"
   ]
  },
  {
   "cell_type": "code",
   "execution_count": 8,
   "metadata": {},
   "outputs": [
    {
     "name": "stdout",
     "output_type": "stream",
     "text": [
      "\n",
      "--------model restored--------\n",
      "\n",
      "\n"
     ]
    }
   ],
   "source": [
    "\n",
    "#LOAD MODEL\n",
    "pathToModel = '../models/WikifoniaNoTranpose_10Epochs_LSTM_noTW_dropout50.model'\n",
    "\n",
    "try:\n",
    "    #LOAD TRAINED MODEL INTO GPU\n",
    "    if(torch.cuda.is_available()):\n",
    "        model = torch.load(pathToModel)\n",
    "        \n",
    "    #LOAD MODEL TRAINED ON GPU INTO CPU\n",
    "    else:\n",
    "        model = torch.load(pathToModel, map_location=lambda storage, loc: storage)\n",
    "    print(\"\\n--------model restored--------\\n\")\n",
    "except:\n",
    "    print(\"\\n--------no saved model found--------\\n\")\n",
    "\n",
    "print('')"
   ]
  },
  {
   "cell_type": "markdown",
   "metadata": {},
   "source": [
    "for epoch in range(1, epochs + 1):\n",
    "    train(epoch)\n",
    "    test(epoch)"
   ]
  },
  {
   "cell_type": "code",
   "execution_count": 9,
   "metadata": {},
   "outputs": [],
   "source": [
    "#torch.save(model,'/media/EXTHD/niciData/models/YamahaPianoComp2002_5Epochs_LSTM_noTW.model')"
   ]
  },
  {
   "cell_type": "code",
   "execution_count": null,
   "metadata": {},
   "outputs": [],
   "source": [
    "\n"
   ]
  },
  {
   "cell_type": "code",
   "execution_count": 10,
   "metadata": {},
   "outputs": [],
   "source": [
    "#np.set_printoptions(precision=2, suppress=True, threshold=np.inf)\n"
   ]
  },
  {
   "cell_type": "code",
   "execution_count": 21,
   "metadata": {
    "scrolled": false
   },
   "outputs": [
    {
     "name": "stdout",
     "output_type": "stream",
     "text": [
      "(1, 96, 60)\n",
      "(96, 128)\n",
      "(96, 128)\n",
      "(96, 128)\n",
      "(96, 128)\n",
      "(96, 128)\n",
      "(96, 128)\n",
      "(768, 128)\n",
      "torch.Size([7, 1, 96, 60])\n",
      "INPUT\n",
      "(768, 128)\n"
     ]
    },
    {
     "data": {
      "image/png": "[encoded data removed]",
      "text/plain": [
       "<IPython.core.display.Image object>"
      ]
     },
     "metadata": {
      "image/png": {
       "height": 211,
       "width": 751
      }
     },
     "output_type": "display_data"
    },
    {
     "data": {
      "text/html": [
       "\n",
       "                <div id='midiPlayerDiv18636'></div>\n",
       "                <link rel=\"stylesheet\" href=\"//cuthbertLab.github.io/music21j/css/m21.css\"\n",
       "                    type=\"text/css\" />\n",
       "                <script>\n",
       "                require.config({\n",
       "                    paths: {'music21': '//cuthbertLab.github.io/music21j/src/music21'}\n",
       "                });\n",
       "                require(['music21'], function() {\n",
       "                               mp = new music21.miditools.MidiPlayer();\n",
       "                               mp.addPlayer('#midiPlayerDiv18636');\n",
       "                               mp.base64Load('data:audio/midi;base64,TVRoZAAAAAYAAQABBABNVHJrAAABvQD/AwVQaWFubwDAAADgAEAAwAAA/1EDB6EgAP9YBAQCGAgAkEN/iACAQwAAkEh/hgCASAAAkEd/ggCARwAAkEh/iACASAAAkEJ/hgCAQgAAkEN/ggCAQwAAkEN/iACAQwAAkEh/hgCASAAAkEd/ggCARwAAkEh/iACASAAAkEJ/hgCAQgAAkEN/ggCAQwAAkEd/iACARwAAkEV/hgCARQAAkEF/ggCAQQAAkEV/iACARQAAkEN/iACAQwAAkEB/iACAQAAAkEF/hgCAQQAAkEN/ggCAQwAAkEV/iACARQAAkEV/hgCARQAAkER/ggCARAAAkEV/iACARQAAkEp/hgCASgAAkEh/ggCASAAAkEd/iACARwCEAJBDf4QAgEMAAJBDf4gAgEMAAJBIf4YAgEgAAJBHf4IAgEcAAJBIf4gAgEgAAJBCf4YAgEIAAJBDf4IAgEMAAJBHf4gAgEcAAJBFf4YAgEUAAJBBf4IAgEEAAJBFf4gAgEUAAJBDf4gAgEMAAJBAf4gAgEAAAJBBf4YAgEEAAJBDf4IAgEMAAJBFf4gAgEUAAJBHf4YAgEcAAJBIf4IAgEgAiAD/LwA=');\n",
       "                        });\n",
       "                </script>"
      ],
      "text/plain": [
       "<IPython.core.display.HTML object>"
      ]
     },
     "metadata": {},
     "output_type": "display_data"
    },
    {
     "name": "stdout",
     "output_type": "stream",
     "text": [
      "PREDICTION\n"
     ]
    },
    {
     "data": {
      "image/png": "[encoded data removed]",
      "text/plain": [
       "<IPython.core.display.Image object>"
      ]
     },
     "metadata": {
      "image/png": {
       "height": 112,
       "width": 748
      }
     },
     "output_type": "display_data"
    },
    {
     "data": {
      "text/html": [
       "\n",
       "                <div id='midiPlayerDiv19152'></div>\n",
       "                <link rel=\"stylesheet\" href=\"//cuthbertLab.github.io/music21j/css/m21.css\"\n",
       "                    type=\"text/css\" />\n",
       "                <script>\n",
       "                require.config({\n",
       "                    paths: {'music21': '//cuthbertLab.github.io/music21j/src/music21'}\n",
       "                });\n",
       "                require(['music21'], function() {\n",
       "                               mp = new music21.miditools.MidiPlayer();\n",
       "                               mp.addPlayer('#midiPlayerDiv19152');\n",
       "                               mp.base64Load('data:audio/midi;base64,TVRoZAAAAAYAAQABBABNVHJrAAAAqAD/AwVQaWFubwDAAADgAEAAwAAA/1EDB6EgAP9YBAQCGAiEAIBNAACQTX+GVZBcfwCQSn+BK4BDAACQQ3+EAJBAfwCQTn+CAIA+AACAQwAAgE0AAJA+fwCQQ38AkE1/VYBcAACASgAAkEJ/AJBGf4ErgCsAAIA0AACQK38AkDR/hACAQAAAgE4AggCATwAAkE9/VYBCAACARgCDK4BBAACQQX+IAP8vAA==');\n",
       "                        });\n",
       "                </script>"
      ],
      "text/plain": [
       "<IPython.core.display.HTML object>"
      ]
     },
     "metadata": {},
     "output_type": "display_data"
    },
    {
     "name": "stdout",
     "output_type": "stream",
     "text": [
      "\n",
      "\n",
      "\n",
      "\n"
     ]
    }
   ],
   "source": [
    "\n",
    "if(model.train()):\n",
    "    model.eval()\n",
    "\n",
    "###PREDICT 8th SEQUENCE\n",
    "with torch.no_grad():\n",
    "    \n",
    "    sampleNp1 = getSlicedPianorollMatrixNp(\"/Volumes/EXT/DATASETS/WikifoniaServer/test/Charlotte-Alington-Pye-Barnard-(1830---1869);-pseudonym-Claribel----Come-back-to-Erin.mid\")\n",
    "    sampleNp1 = deleteZeroMatrices(sampleNp1)\n",
    "    sample = np.expand_dims(sampleNp1[0,:,36:-32],axis=0)\n",
    "    print(sample.shape)\n",
    "    for i, sampleNp in enumerate(sampleNp1[1:7]):\n",
    "        print(sampleNp.shape)\n",
    "        if(np.any(sampleNp)):\n",
    "            sampleNp = sampleNp[:,36:-32]\n",
    "            sampleNp = np.expand_dims(sampleNp,axis=0)\n",
    "            sample = np.concatenate((sample,sampleNp),axis=0)\n",
    "    samplePlay = sample[0,:,:]\n",
    "    for s in sample:\n",
    "        samplePlay = np.concatenate((samplePlay,s),axis=0)\n",
    "    samplePlay = addCuttedOctaves(samplePlay)\n",
    "    print(samplePlay.shape)\n",
    "    sample = torch.from_numpy(sample).float().to(device)\n",
    "    sample = torch.unsqueeze(sample,1)\n",
    "    print(sample.size())\n",
    "    _,_, pred = model(sample)\n",
    "    #reconstruction = recon.squeeze(0).squeeze(0).cpu().numpy()\n",
    "    prediction = pred.squeeze(0).squeeze(0).cpu().numpy()\n",
    "\n",
    "    #print(sampleNp[:,:])\n",
    "    #print(prediction[:,:])\n",
    "    #print(np.sum(sampleNp.numpy(), axis=1))\n",
    "\n",
    "    #NORMALIZE PREDICTIONS\n",
    "    #reconstruction /= np.abs(np.max(reconstruction))\n",
    "    prediction /= np.abs(np.max(prediction))\n",
    "    #print(prediction)\n",
    "\n",
    "    #CHECK MIDI ACTIVATIONS IN PREDICTION TO INCLUDE RESTS\n",
    "    #reconstruction[reconstruction < 0.3] = 0\n",
    "    prediction[prediction < 0.6] = 0\n",
    "\n",
    "\n",
    "\n",
    "    ###MONOPHONIC OUTPUT MATRIX POLOYPHONIC POSSIBLE WITH ACTIVATION THRESHOLD###\n",
    "    #score = music21.converter.parse('WikifoniaServer/samples/The-Doors---Don\\'t-you-love-her-Madly?.mid')\n",
    "    #score.show()\n",
    "\n",
    "    samplePlay = debinarizeMidi(samplePlay, prediction=False)\n",
    "    samplePlay = addCuttedOctaves(samplePlay)\n",
    "    #reconstruction = debinarizeMidi(reconstruction, prediction=True)\n",
    "    #reconstruction = addCuttedOctaves(reconstruction)\n",
    "    prediction = debinarizeMidi(prediction, prediction=True)\n",
    "    prediction = addCuttedOctaves(prediction)\n",
    "\n",
    "    #print(np.argmax(samplePlay, axis=1))\n",
    "    #print('')\n",
    "    #print(np.argmax(prediction, axis=1))\n",
    "    print(\"INPUT\")\n",
    "    print(samplePlay.shape)\n",
    "    pianorollMatrixToTempMidi(samplePlay)\n",
    "    tempMidi(show=True,play=True)\n",
    "    #print(\"RECONSTRUCTION\")\n",
    "    #pianorollMatrixToTempMidi(reconstruction)        \n",
    "    #tempMidi(show=True,play=True)\n",
    "    print(\"PREDICTION\")\n",
    "    pianorollMatrixToTempMidi(prediction, prediction=True)        \n",
    "    tempMidi(show=True,play=True)\n",
    "    print(\"\\n\\n\")\n",
    "            \n",
    "\n",
    "print('')"
   ]
  },
  {
   "cell_type": "code",
   "execution_count": null,
   "metadata": {},
   "outputs": [],
   "source": []
  },
  {
   "cell_type": "code",
   "execution_count": null,
   "metadata": {},
   "outputs": [],
   "source": []
  }
 ],
 "metadata": {
  "kernelspec": {
   "display_name": "Python 3",
   "language": "python",
   "name": "python3"
  },
  "language_info": {
   "codemirror_mode": {
    "name": "ipython",
    "version": 3
   },
   "file_extension": ".py",
   "mimetype": "text/x-python",
   "name": "python",
   "nbconvert_exporter": "python",
   "pygments_lexer": "ipython3",
   "version": "3.6.5"
  }
 },
 "nbformat": 4,
 "nbformat_minor": 2
}
