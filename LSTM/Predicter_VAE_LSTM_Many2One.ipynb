{
 "cells": [
  {
   "cell_type": "markdown",
   "metadata": {},
   "source": [
    "# Encoder-LSTM-Decoder Predicter Many2One Predicter\n",
    "This script predicts 1 bar on input of 7 bars loaded from a MIDI file"
   ]
  },
  {
   "cell_type": "code",
   "execution_count": null,
   "metadata": {
    "scrolled": false
   },
   "outputs": [],
   "source": [
    "import torch\n",
    "from VAE.VAE_Reconstruct_TrainNEW import VAE\n",
    "from LSTM.VAE_LSTM_Many2One import LSTM_Many2One\n",
    "from loadModel import loadStateDict\n",
    "from lstm_utils.predict import predict\n",
    "\n",
    "lstm_path = 'checkpoints_many2one/m2o_wiki12up12down_h512.pth'\n",
    "vae_path = '../VAE/checkpoints/dougmckenzie_tpby60.pth'\n",
    "bars=8\n",
    "temperature=0.9\n",
    "\n",
    "#for gpu\n",
    "device = torch.device(\"cuda\" if torch.cuda.is_available() else \"cpu\")\n",
    "\n",
    "#load models\n",
    "lstm_model = LSTM_Many2One(batch_size=1, seq_length=bars, \n",
    "             input_size=100, hidden_size=512)\n",
    "vae_model = VAE()\n",
    "\n",
    "#load weights\n",
    "lstm_model = loadStateDict(lstm_model, lstm_path)\n",
    "vae_model = loadStateDict(vae_model, vae_path)\n",
    "\n",
    "# to device\n",
    "lstm_model = lstm_model.double().to(device)\n",
    "vae_model = vae_model.to(device)"
   ]
  },
  {
   "cell_type": "code",
   "execution_count": null,
   "metadata": {
    "scrolled": false
   },
   "outputs": [],
   "source": [
    "predict('../../Wikifonia_validation/Geron-Davis,-1983---Holy-Ground.mid', \n",
    "                lstm_model, vae_model, temperature=temperature, play_bar=8)"
   ]
  },
  {
   "cell_type": "code",
   "execution_count": null,
   "metadata": {
    "scrolled": false
   },
   "outputs": [],
   "source": [
    "predict('../../Wikifonia_validation/Henry-Mancini,-Leslie-Bricusse---Two-for-the-Road.mid', \n",
    "                lstm_model, vae_model, temperature=temperature, play_bar=8)"
   ]
  },
  {
   "cell_type": "code",
   "execution_count": null,
   "metadata": {},
   "outputs": [],
   "source": [
    "predict('../../Wikifonia_validation/Herbie-Hancock---Watermelon-Man.mid',\n",
    "                lstm_model, vae_model, temperature=temperature, play_bar=0)"
   ]
  },
  {
   "cell_type": "code",
   "execution_count": null,
   "metadata": {},
   "outputs": [],
   "source": []
  }
 ],
 "metadata": {
  "kernelspec": {
   "display_name": "Python 3",
   "language": "python",
   "name": "python3"
  },
  "language_info": {
   "codemirror_mode": {
    "name": "ipython",
    "version": 3
   },
   "file_extension": ".py",
   "mimetype": "text/x-python",
   "name": "python",
   "nbconvert_exporter": "python",
   "pygments_lexer": "ipython3",
   "version": "3.6.5"
  }
 },
 "nbformat": 4,
 "nbformat_minor": 2
}
