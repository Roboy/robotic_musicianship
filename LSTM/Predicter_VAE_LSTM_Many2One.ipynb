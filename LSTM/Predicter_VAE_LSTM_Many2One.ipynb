{
 "cells": [
  {
   "cell_type": "markdown",
   "metadata": {},
   "source": [
    "# Encoder-LSTM-Decoder Predicter Many2One Predicter\n",
    "This script predicts 1 bar on input of 7 bars loaded from a MIDI file"
   ]
  },
  {
   "cell_type": "code",
   "execution_count": 1,
   "metadata": {
    "scrolled": false
   },
   "outputs": [
    {
     "ename": "ImportError",
     "evalue": "cannot import name 'predict_1bar'",
     "output_type": "error",
     "traceback": [
      "\u001b[0;31m---------------------------------------------------------------------------\u001b[0m",
      "\u001b[0;31mImportError\u001b[0m                               Traceback (most recent call last)",
      "\u001b[0;32m<ipython-input-1-0de4a2d32b83>\u001b[0m in \u001b[0;36m<module>\u001b[0;34m\u001b[0m\n\u001b[1;32m      3\u001b[0m \u001b[0;32mfrom\u001b[0m \u001b[0mLSTM\u001b[0m\u001b[0;34m.\u001b[0m\u001b[0mVAE_LSTM_Many2One\u001b[0m \u001b[0;32mimport\u001b[0m \u001b[0mLSTM_Many2One\u001b[0m\u001b[0;34m\u001b[0m\u001b[0m\n\u001b[1;32m      4\u001b[0m \u001b[0;32mfrom\u001b[0m \u001b[0mloadModel\u001b[0m \u001b[0;32mimport\u001b[0m \u001b[0mloadStateDict\u001b[0m\u001b[0;34m\u001b[0m\u001b[0m\n\u001b[0;32m----> 5\u001b[0;31m \u001b[0;32mfrom\u001b[0m \u001b[0mlstm_utils\u001b[0m\u001b[0;34m.\u001b[0m\u001b[0mpredict\u001b[0m \u001b[0;32mimport\u001b[0m \u001b[0mpredict_1bar\u001b[0m\u001b[0;34m\u001b[0m\u001b[0m\n\u001b[0m\u001b[1;32m      6\u001b[0m \u001b[0;34m\u001b[0m\u001b[0m\n\u001b[1;32m      7\u001b[0m \u001b[0mlstm_path\u001b[0m \u001b[0;34m=\u001b[0m \u001b[0;34m'checkpoints_many2one/m2o_wiki12up12down_h512.pth'\u001b[0m\u001b[0;34m\u001b[0m\u001b[0m\n",
      "\u001b[0;31mImportError\u001b[0m: cannot import name 'predict_1bar'"
     ]
    }
   ],
   "source": [
    "import torch\n",
    "from VAE.VAE_Reconstruct_TrainNEW import VAE\n",
    "from LSTM.VAE_LSTM_Many2One import LSTM_Many2One\n",
    "from loadModel import loadStateDict\n",
    "from lstm_utils.predict import predict_1bar\n",
    "\n",
    "lstm_path = 'checkpoints_many2one/m2o_wiki12up12down_h512.pth'\n",
    "vae_path = '../../VAE_1bar_train/checkpoints/dougmckenzie_tpby60.pth'\n",
    "bars=8\n",
    "temperature=0.9\n",
    "\n",
    "#for gpu\n",
    "device = torch.device(\"cuda\" if torch.cuda.is_available() else \"cpu\")\n",
    "\n",
    "#load models\n",
    "lstm_model = LSTM_Many2One(batch_size=1, seq_length=bars, \n",
    "             input_size=100, hidden_size=512)\n",
    "vae_model = VAE()\n",
    "\n",
    "#load weights\n",
    "lstm_model = loadStateDict(lstm_model, lstm_path)\n",
    "vae_model = loadStateDict(vae_model, vae_path)\n",
    "\n",
    "# to device\n",
    "lstm_model = lstm_model.double().to(device)\n",
    "vae_model = vae_model.to(device)"
   ]
  },
  {
   "cell_type": "code",
   "execution_count": null,
   "metadata": {
    "scrolled": false
   },
   "outputs": [],
   "source": [
    "predict_1bar('../../Wikifonia_validation/Geron-Davis,-1983---Holy-Ground.mid', \n",
    "             lstm_model, vae_model, temperature=temperature, play_bar=8)"
   ]
  },
  {
   "cell_type": "code",
   "execution_count": null,
   "metadata": {},
   "outputs": [],
   "source": [
    "predict_1bar('../../Wikifonia_validation/Henry-Mancini,-Leslie-Bricusse---Two-for-the-Road.mid', \n",
    "             lstm_model, vae_model, temperature=temperature, play_bar=8)"
   ]
  },
  {
   "cell_type": "code",
   "execution_count": null,
   "metadata": {},
   "outputs": [],
   "source": [
    "predict_1bar('../../Wikifonia_validation/Cole-Porter---Why-Can\\'t-You-Behave.mid', \n",
    "             lstm_model, vae_model, temperature=temperature, play_bar=16)"
   ]
  },
  {
   "cell_type": "code",
   "execution_count": null,
   "metadata": {},
   "outputs": [],
   "source": []
  }
 ],
 "metadata": {
  "kernelspec": {
   "display_name": "Python 3",
   "language": "python",
   "name": "python3"
  },
  "language_info": {
   "codemirror_mode": {
    "name": "ipython",
    "version": 3
   },
   "file_extension": ".py",
   "mimetype": "text/x-python",
   "name": "python",
   "nbconvert_exporter": "python",
   "pygments_lexer": "ipython3",
   "version": "3.6.5"
  }
 },
 "nbformat": 4,
 "nbformat_minor": 2
}
