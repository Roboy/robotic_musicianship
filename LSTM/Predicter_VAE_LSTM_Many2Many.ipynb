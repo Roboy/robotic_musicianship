{
 "cells": [
  {
   "cell_type": "markdown",
   "metadata": {},
   "source": [
    "# Encoder-LSTM-Decoder Many2Many Predicter\n",
    "This script predicts 4 bars on an input of 4 bars loaded from a MIDI file"
   ]
  },
  {
   "cell_type": "code",
   "execution_count": null,
   "metadata": {
    "scrolled": false
   },
   "outputs": [],
   "source": [
    "import torch\n",
    "from VAE.VAE_Reconstruct_TrainNEW import VAE\n",
    "from LSTM.VAE_LSTM_Many2Many import LSTM_Many2Many\n",
    "from loadModel import loadStateDict\n",
    "from lstm_utils.predict import predict\n",
    "\n",
    "lstm_path = 'checkpoints_many2many/m2m_wiki12updown_h256_New.pth'\n",
    "vae_path = '../VAE/checkpoints_vae/yamahapc2002tpby60.pth'\n",
    "bars=8\n",
    "temperature=0.7\n",
    "\n",
    "#for gpu\n",
    "device = torch.device(\"cuda\" if torch.cuda.is_available() else \"cpu\")\n",
    "\n",
    "#load models\n",
    "lstm_model = LSTM_Many2Many(batch_size=1, seq_length=bars, \n",
    "             input_size=100, hidden_size=256)\n",
    "vae_model = VAE()\n",
    "\n",
    "#load weights\n",
    "lstm_model = loadStateDict(lstm_model, lstm_path)\n",
    "vae_model = loadStateDict(vae_model, vae_path)\n",
    "\n",
    "# to device\n",
    "lstm_model = lstm_model.double().to(device)\n",
    "vae_model = vae_model.to(device)"
   ]
  },
  {
   "cell_type": "code",
   "execution_count": null,
   "metadata": {
    "scrolled": false
   },
   "outputs": [],
   "source": [
    "predict('../../Wikifonia_validation/Geron-Davis,-1983---Holy-Ground.mid', \n",
    "                lstm_model, vae_model, temperature=0.7, play_bar=8, is_4bar_model=True)"
   ]
  },
  {
   "cell_type": "code",
   "execution_count": null,
   "metadata": {},
   "outputs": [],
   "source": [
    "predict('../../Wikifonia_validation/Henry-Mancini,-Leslie-Bricusse---Two-for-the-Road.mid', \n",
    "                lstm_model, vae_model, temperature=.7, play_bar=8, is_4bar_model=True)"
   ]
  },
  {
   "cell_type": "code",
   "execution_count": null,
   "metadata": {},
   "outputs": [],
   "source": [
    "predict('../../Wikifonia_validation/Cole-Porter---Why-Can\\'t-You-Behave.mid', \n",
    "                lstm_model, vae_model, temperature=temperature, play_bar=16, is_4bar_model=True)"
   ]
  },
  {
   "cell_type": "code",
   "execution_count": null,
   "metadata": {},
   "outputs": [],
   "source": [
    "predict('../../Wikifonia_validation/Johnny-Mandel,-Morgan-Ames---Unless-It\\'s-You.mid', \n",
    "                lstm_model, vae_model, temperature=temperature, play_bar=16, is_4bar_model=True)"
   ]
  },
  {
   "cell_type": "code",
   "execution_count": null,
   "metadata": {},
   "outputs": [],
   "source": [
    "predict('../../Wikifonia_validation/Herbie-Hancock---Watermelon-Man.mid',\n",
    "                lstm_model, vae_model, temperature=temperature, play_bar=0, is_4bar_model=True)"
   ]
  },
  {
   "cell_type": "code",
   "execution_count": null,
   "metadata": {},
   "outputs": [],
   "source": []
  }
 ],
 "metadata": {
  "kernelspec": {
   "display_name": "Python 3",
   "language": "python",
   "name": "python3"
  },
  "language_info": {
   "codemirror_mode": {
    "name": "ipython",
    "version": 3
   },
   "file_extension": ".py",
   "mimetype": "text/x-python",
   "name": "python",
   "nbconvert_exporter": "python",
   "pygments_lexer": "ipython3",
   "version": "3.6.5"
  }
 },
 "nbformat": 4,
 "nbformat_minor": 2
}
