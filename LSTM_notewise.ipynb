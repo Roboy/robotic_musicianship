{
 "cells": [
  {
   "cell_type": "code",
   "execution_count": 1,
   "metadata": {},
   "outputs": [],
   "source": [
    "import matplotlib\n",
    "matplotlib.use('Agg')\n",
    "import numpy as np\n",
    "import glob\n",
    "import pypianoroll as ppr\n",
    "import time\n",
    "import music21\n",
    "import os\n",
    "import torch\n",
    "import torch.utils.data\n",
    "from torch import nn, optim\n",
    "from torch.nn import functional as F\n",
    "import torch.utils.data as data\n",
    "from utils.utilsPreprocessing import *\n",
    "import time\n",
    "#np.set_printoptions(threshold=np.inf)\n",
    "torch.set_printoptions(threshold=50000)"
   ]
  },
  {
   "cell_type": "code",
   "execution_count": 2,
   "metadata": {},
   "outputs": [],
   "source": [
    "###HYPERPARAMETERS######################\n",
    "epochs = 100\n",
    "batch_size = 10\n",
    "learning_rate = 1e-3\n",
    "log_interval = 1\n",
    "hidden_size = 400\n",
    "num_layers = 2\n",
    "validate = False #play/show a random sample after each epoch"
   ]
  },
  {
   "cell_type": "markdown",
   "metadata": {},
   "source": [
    "# Beat resolution\n",
    "If beat resolution = 1 --> 1 tick = 1/4 note<br>\n",
    "If beat resolution = 2 --> 1 tick = 1/8 note<br>\n",
    "If beat resolution = 4 --> 1 tick = 1/16 note<br>\n",
    "If beat resolution = 8 --> 1 tick = 1/32 note<br>\n",
    "...\n",
    "\n"
   ]
  },
  {
   "cell_type": "code",
   "execution_count": null,
   "metadata": {},
   "outputs": [],
   "source": [
    "beat_resolution = 4"
   ]
  },
  {
   "cell_type": "code",
   "execution_count": null,
   "metadata": {
    "scrolled": false
   },
   "outputs": [],
   "source": [
    "pathToFiles = \"/media/EXTHD/niciData/Datasets/YamahaPianoCompetition2002NoTransposeFiles/\"\n",
    "midiDatasetTrain = createDatasetLSTM(pathToFiles + \"train/*.mid\", beat_res = beat_resolution)\n",
    "midiDatasetTrain.setMaxLength()\n",
    "\n",
    "midiDatasetTest = createDatasetLSTM(pathToFiles + \"test/*.mid\", beat_res = beat_resolution)\n",
    "midiDatasetTest.setMaxLength()\n",
    "\n",
    "midiDatasetVal = createDatasetLSTM(\"../WikifoniaServer/samples/*.mid\")\n",
    "midiDatasetVal.setMaxLength()"
   ]
  },
  {
   "cell_type": "code",
   "execution_count": null,
   "metadata": {},
   "outputs": [],
   "source": [
    "print(\"\\nThere are {} songs in the training set\\n\".format(len(midiDatasetTrain)))\n",
    "print(\"There are {} songs in the test set\\n\".format(len(midiDatasetTest)))\n",
    "print(\"There are {} songs in the validation set\\n\".format(len(midiDatasetVal)))"
   ]
  },
  {
   "cell_type": "code",
   "execution_count": null,
   "metadata": {},
   "outputs": [],
   "source": [
    "train_loader = torch.utils.data.DataLoader(midiDatasetTrain, batch_size=batch_size, shuffle=False, drop_last=True)\n",
    "test_loader = torch.utils.data.DataLoader(midiDatasetTest, batch_size=batch_size, shuffle=False, drop_last=True)\n",
    "val_loader = torch.utils.data.DataLoader(midiDatasetTest, batch_size=1, shuffle=True, drop_last=True)"
   ]
  },
  {
   "cell_type": "code",
   "execution_count": null,
   "metadata": {},
   "outputs": [],
   "source": [
    "device = torch.device(\"cuda\" if torch.cuda.is_available() else \"cpu\")"
   ]
  },
  {
   "cell_type": "code",
   "execution_count": null,
   "metadata": {},
   "outputs": [],
   "source": [
    "class LSTM_notewise(nn.Module):\n",
    "    def __init__(self, hidden_size=400, num_layers=2, batch_size=1):\n",
    "        super(LSTM_notewise, self).__init__()\n",
    "        \n",
    "        self.input_size = 60\n",
    "        self.hidden_size = hidden_size\n",
    "        self.num_layers = num_layers\n",
    "        self.batch_size = batch_size\n",
    "        self.num_classes = 60\n",
    "\n",
    "        \n",
    "        self.i2h = nn.Linear(60, self.hidden_size)\n",
    "        self.lstm = nn.LSTM(self.hidden_size, self.hidden_size,\n",
    "                            self.num_layers, batch_first=True)\n",
    "        self.h2o = nn.Linear(self.hidden_size, 60)\n",
    "        \n",
    "    def initState(self):\n",
    "        state = torch.zeros(self.num_layers,\n",
    "                            self.batch_size, \n",
    "                            self.hidden_size).double().to(device)\n",
    "        return state\n",
    "    \n",
    "    def forward(self, input, seq_lengths):\n",
    "        h_t = self.initState()\n",
    "        c_t = self.initState()\n",
    "        \n",
    "        embedded_notes = self.i2h(input)\n",
    "        embedded_notes = torch.nn.utils.rnn.pack_padded_sequence(embedded_notes, \n",
    "                                                                 seq_lengths, \n",
    "                                                                 batch_first=True)    \n",
    "        out, (h_t, c_t) = self.lstm(embedded_notes, (h_t, c_t))\n",
    "        out, out_lengths = torch.nn.utils.rnn.pad_packed_sequence(out, batch_first=True)\n",
    "        out = F.sigmoid(self.h2o(out))\n",
    "        #out = 1-out\n",
    "        #print(out.size())\n",
    "        \n",
    "        return out"
   ]
  },
  {
   "cell_type": "code",
   "execution_count": null,
   "metadata": {},
   "outputs": [],
   "source": [
    "model = LSTM_notewise(hidden_size=hidden_size, num_layers=num_layers, \n",
    "                      batch_size=batch_size).double().to(device)\n",
    "optimizer = optim.Adam(model.parameters(), lr=learning_rate)"
   ]
  },
  {
   "cell_type": "code",
   "execution_count": null,
   "metadata": {},
   "outputs": [],
   "source": [
    "#load model\n",
    "#from loadModel import loadStateDict\n",
    "#pathToModel = \"/media/EXTHD/niciData/models/LSTM_notewise.pth\"\n",
    "\n",
    "#model = loadStateDict(model, pathToModel)\n"
   ]
  },
  {
   "cell_type": "code",
   "execution_count": null,
   "metadata": {},
   "outputs": [],
   "source": [
    "def train(epoch):\n",
    "    \n",
    "    model.train()\n",
    "    train_loss = 0\n",
    "    criterion = nn.BCELoss()\n",
    "    for batch_idx, data in enumerate(train_loader):\n",
    "        optimizer.zero_grad()\n",
    "        input_lstm, ground_truth, seq_lengths = reorderBatch(data)\n",
    "        prediction = model(input_lstm.double().to(device), seq_lengths)\n",
    "        ground_truth = ground_truth.to(device)\n",
    "        print('')\n",
    "        print(prediction.size(), ground_truth.size())\n",
    "        print('prediction', torch.argmax(prediction[0,40:41,:]))\n",
    "        print('ground_truth', torch.argmax(ground_truth[0,40:41,:]))\n",
    "        \n",
    "        loss = criterion(prediction, ground_truth)\n",
    "        loss.backward()\n",
    "        train_loss += loss.item()\n",
    "        torch.nn.utils.clip_grad_norm_(model.parameters(), 1.0)\n",
    "        optimizer.step()\n",
    "        if(batch_idx % log_interval == 0):\n",
    "            print('Train Epoch: {} [{}/{} ({:.0f}%)]\\tLoss: {:.6f}'.format(\n",
    "                epoch, batch_idx * len(data), len(train_loader.dataset),\n",
    "                100. * batch_idx / len(train_loader),\n",
    "                loss.item() / len(data)))\n",
    "\n",
    "    print('====> Epoch: {} Average Loss: {:.4f}'.format(\n",
    "          epoch, train_loss / len(train_loader.dataset)))\n",
    "    return train_loss\n",
    "\n",
    "def test(epoch):\n",
    "    model.eval()\n",
    "    test_loss = 0\n",
    "    criterion = nn.BCEWithLogitsLoss()\n",
    "    with torch.no_grad():\n",
    "        for i, data in enumerate(test_loader):\n",
    "            input_lstm, ground_truth, seq_lengths = reorderBatch(data)\n",
    "            prediction = model(input_lstm.double().to(device), seq_lengths)\n",
    "            \n",
    "            test_loss += criterion(prediction, ground_truth.to(device)).item()\n",
    "\n",
    "\n",
    "    print('====> Test set Loss: {:.4f}'.format(test_loss))\n",
    "    return test_loss\n",
    "\n",
    "def val(epoch):\n",
    "    model.eval()\n",
    "    val_loss = 0\n",
    "    criterion = nn.BCEWithLogitsLoss()\n",
    "    with torch.no_grad():\n",
    "        for i, data in enumerate(val_loader):\n",
    "            input_lstm, ground_truth, seq_lengths = reorderBatch(data)\n",
    "            prediction = model(input_lstm.double().to(device), seq_lengths)\n",
    "            val_loss = criterion(prediction, ground_truth.to(device)).item()\n",
    "\n",
    "            break\n",
    "    print('====> Validation Loss: {:.4f}'.format(val_loss))\n",
    "    return val_loss\n",
    "        "
   ]
  },
  {
   "cell_type": "code",
   "execution_count": null,
   "metadata": {
    "scrolled": false
   },
   "outputs": [],
   "source": [
    "import matplotlib.pyplot as plt\n",
    "\n",
    "\n",
    "train_losses = []\n",
    "test_losses = []\n",
    "if validate:\n",
    "    val_losses = []\n",
    "best_test_loss = 999\n",
    "for epoch in range(1, epochs + 1):\n",
    "    #train\n",
    "    current_train_loss = (train(epoch))\n",
    "    train_losses.append(current_train_loss)\n",
    "    #test\n",
    "    current_test_loss = test(epoch)\n",
    "    test_losses.append(current_test_loss)\n",
    "    #save if model better than best model\n",
    "    if(current_test_loss < best_test_loss):\n",
    "        best_test_loss = current_test_loss\n",
    "        torch.save(model.state_dict(),'/media/EXTHD/niciData/LSTM_notewise.pth')\n",
    "    \n",
    "    #validate\n",
    "    if validate:\n",
    "        current_val_loss = val(epoch)\n",
    "        val_losses.append(current_val_loss)\n",
    " \n",
    "    \n",
    "plt.plot(train_losses, color='red', label='Train loss')\n",
    "plt.plot(test_losses, color='orange', label='Test loss')\n",
    "if validate:\n",
    "    plt.plot(val_losses, color='yellow', label='Validation loss')\n",
    "plt.legend()\n",
    "plt.savefig('LSTM_notewise.png')"
   ]
  },
  {
   "cell_type": "markdown",
   "metadata": {},
   "source": [
    "# Generate"
   ]
  },
  {
   "cell_type": "code",
   "execution_count": null,
   "metadata": {},
   "outputs": [],
   "source": [
    "\"\"\"\n",
    "model.eval()\n",
    "model.batch_size=1\n",
    "with torch.no_grad():\n",
    "    #get unseeen sample from validation set\n",
    "    for data in val_loader:\n",
    "        input_lstm, ground_truth, seq_lengths = reorderBatch(data)\n",
    "        prediction = model(input_lstm.double().to(device), seq_lengths)\n",
    "        print(prediction.size())\n",
    "\n",
    "        prediction = prediction.squeeze(0).cpu().numpy()\n",
    "        print(prediction)\n",
    "        #prediction /= np.max(np.abs(prediction))\n",
    "        #prediction[prediction < 0.2] = 0\n",
    "        prediction = debinarizeMidi(prediction, prediction=True)\n",
    "        prediction = addCuttedOctaves(prediction)\n",
    "        print(prediction)\n",
    "        pianorollMatrixToTempMidi(prediction, show=True, showPlayer=True, autoplay=False,\n",
    "                                 path='../temp/temp.mid')\n",
    "\"\"\"\n",
    "print('')"
   ]
  },
  {
   "cell_type": "code",
   "execution_count": null,
   "metadata": {},
   "outputs": [],
   "source": []
  }
 ],
 "metadata": {
  "kernelspec": {
   "display_name": "Python 3",
   "language": "python",
   "name": "python3"
  },
  "language_info": {
   "codemirror_mode": {
    "name": "ipython",
    "version": 3
   },
   "file_extension": ".py",
   "mimetype": "text/x-python",
   "name": "python",
   "nbconvert_exporter": "python",
   "pygments_lexer": "ipython3",
   "version": "3.6.5"
  }
 },
 "nbformat": 4,
 "nbformat_minor": 2
}
